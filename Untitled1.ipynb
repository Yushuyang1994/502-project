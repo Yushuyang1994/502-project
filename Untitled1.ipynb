{
 "cells": [
  {
   "cell_type": "code",
   "execution_count": 3,
   "metadata": {},
   "outputs": [
    {
     "name": "stdout",
     "output_type": "stream",
     "text": [
      "root\n",
      " |-- cik: integer (nullable = true)\n",
      " |-- company_name: string (nullable = true)\n",
      " |-- assigned_sic: integer (nullable = true)\n",
      " |-- accession_number_int: long (nullable = true)\n",
      " |-- filing_date: date (nullable = true)\n",
      " |-- CostOfGoodsAndServicesSold: double (nullable = true)\n",
      " |-- CostOfGoodsSold: double (nullable = true)\n",
      " |-- CostOfServices: double (nullable = true)\n",
      " |-- EarningsPerShareBasic: double (nullable = true)\n",
      " |-- EarningsPerShareDiluted: double (nullable = true)\n",
      " |-- GainLossOnDispositionOfAssets: double (nullable = true)\n",
      " |-- GeneralAndAdministrativeExpense: double (nullable = true)\n",
      " |-- IncomeTaxesPaid: double (nullable = true)\n",
      " |-- IncreaseDecreaseInAccountsPayable: double (nullable = true)\n",
      " |-- IncreaseDecreaseInAccountsReceivable: double (nullable = true)\n",
      " |-- IncreaseDecreaseInAccruedLiabilities: double (nullable = true)\n",
      " |-- IncreaseDecreaseInInventories: double (nullable = true)\n",
      " |-- LaborAndRelatedExpense: double (nullable = true)\n",
      " |-- NetCashProvidedByUsedInFinancingActivities: double (nullable = true)\n",
      " |-- NetCashProvidedByUsedInFinancingActivitiesContinuingOperations: double (nullable = true)\n",
      " |-- NetCashProvidedByUsedInInvestingActivities: double (nullable = true)\n",
      " |-- NetCashProvidedByUsedInInvestingActivitiesContinuingOperations: double (nullable = true)\n",
      " |-- NetCashProvidedByUsedInOperatingActivities: double (nullable = true)\n",
      " |-- NetCashProvidedByUsedInOperatingActivitiesContinuingOperations: double (nullable = true)\n",
      " |-- NetIncomeLoss: double (nullable = true)\n",
      " |-- OperatingExpenses: double (nullable = true)\n",
      " |-- OperatingIncomeLoss: double (nullable = true)\n",
      " |-- PaymentsForRepurchaseOfCommonStock: double (nullable = true)\n",
      " |-- PaymentsOfDividends: double (nullable = true)\n",
      " |-- PaymentsOfDividendsCommonStock: double (nullable = true)\n",
      " |-- PaymentsOfFinancingCosts: double (nullable = true)\n",
      " |-- PaymentsToAcquireBusinessesNetOfCashAcquired: double (nullable = true)\n",
      " |-- PaymentsToAcquirePropertyPlantAndEquipment: double (nullable = true)\n",
      " |-- RepaymentsOfLongTermDebt: double (nullable = true)\n",
      " |-- ResearchAndDevelopmentExpense: double (nullable = true)\n",
      " |-- Revenues: double (nullable = true)\n",
      " |-- SellingAndMarketingExpense: double (nullable = true)\n",
      " |-- ShareBasedCompensation: double (nullable = true)\n",
      " |-- year: integer (nullable = true)\n",
      " |-- profit_year: integer (nullable = true)\n",
      " |-- profit: double (nullable = true)\n",
      "\n",
      "+---+------------+------------+--------------------+-----------+--------------------------+---------------+--------------+---------------------+-----------------------+-----------------------------+-------------------------------+---------------+---------------------------------+------------------------------------+------------------------------------+-----------------------------+----------------------+------------------------------------------+--------------------------------------------------------------+------------------------------------------+--------------------------------------------------------------+------------------------------------------+--------------------------------------------------------------+-------------+-----------------+-------------------+----------------------------------+-------------------+------------------------------+------------------------+--------------------------------------------+------------------------------------------+------------------------+-----------------------------+--------+--------------------------+----------------------+----+-----------+------+\n",
      "|cik|company_name|assigned_sic|accession_number_int|filing_date|CostOfGoodsAndServicesSold|CostOfGoodsSold|CostOfServices|EarningsPerShareBasic|EarningsPerShareDiluted|GainLossOnDispositionOfAssets|GeneralAndAdministrativeExpense|IncomeTaxesPaid|IncreaseDecreaseInAccountsPayable|IncreaseDecreaseInAccountsReceivable|IncreaseDecreaseInAccruedLiabilities|IncreaseDecreaseInInventories|LaborAndRelatedExpense|NetCashProvidedByUsedInFinancingActivities|NetCashProvidedByUsedInFinancingActivitiesContinuingOperations|NetCashProvidedByUsedInInvestingActivities|NetCashProvidedByUsedInInvestingActivitiesContinuingOperations|NetCashProvidedByUsedInOperatingActivities|NetCashProvidedByUsedInOperatingActivitiesContinuingOperations|NetIncomeLoss|OperatingExpenses|OperatingIncomeLoss|PaymentsForRepurchaseOfCommonStock|PaymentsOfDividends|PaymentsOfDividendsCommonStock|PaymentsOfFinancingCosts|PaymentsToAcquireBusinessesNetOfCashAcquired|PaymentsToAcquirePropertyPlantAndEquipment|RepaymentsOfLongTermDebt|ResearchAndDevelopmentExpense|Revenues|SellingAndMarketingExpense|ShareBasedCompensation|year|profit_year|profit|\n",
      "+---+------------+------------+--------------------+-----------+--------------------------+---------------+--------------+---------------------+-----------------------+-----------------------------+-------------------------------+---------------+---------------------------------+------------------------------------+------------------------------------+-----------------------------+----------------------+------------------------------------------+--------------------------------------------------------------+------------------------------------------+--------------------------------------------------------------+------------------------------------------+--------------------------------------------------------------+-------------+-----------------+-------------------+----------------------------------+-------------------+------------------------------+------------------------+--------------------------------------------+------------------------------------------+------------------------+-----------------------------+--------+--------------------------+----------------------+----+-----------+------+\n",
      "|  0|           0|           0|                   0|          0|                         0|              0|             0|                    0|                      0|                            0|                              0|              0|                                0|                                   0|                                   0|                            0|                     0|                                         0|                                                             0|                                         0|                                                             0|                                         0|                                                             0|            0|                0|                  0|                                 0|                  0|                             0|                       0|                                           0|                                         0|                       0|                            0|       0|                         0|                     0|   0|          0|     0|\n",
      "+---+------------+------------+--------------------+-----------+--------------------------+---------------+--------------+---------------------+-----------------------+-----------------------------+-------------------------------+---------------+---------------------------------+------------------------------------+------------------------------------+-----------------------------+----------------------+------------------------------------------+--------------------------------------------------------------+------------------------------------------+--------------------------------------------------------------+------------------------------------------+--------------------------------------------------------------+-------------+-----------------+-------------------+----------------------------------+-------------------+------------------------------+------------------------+--------------------------------------------+------------------------------------------+------------------------+-----------------------------+--------+--------------------------+----------------------+----+-----------+------+\n",
      "\n",
      "root\n",
      " |-- features: vector (nullable = true)\n",
      " |-- cik: integer (nullable = true)\n",
      " |-- company_name: string (nullable = true)\n",
      " |-- assigned_sic: integer (nullable = true)\n",
      " |-- accession_number_int: long (nullable = true)\n",
      " |-- filing_date: date (nullable = true)\n",
      " |-- CostOfGoodsAndServicesSold: double (nullable = false)\n",
      " |-- CostOfGoodsSold: double (nullable = false)\n",
      " |-- CostOfServices: double (nullable = false)\n",
      " |-- EarningsPerShareBasic: double (nullable = false)\n",
      " |-- EarningsPerShareDiluted: double (nullable = false)\n",
      " |-- GainLossOnDispositionOfAssets: double (nullable = false)\n",
      " |-- GeneralAndAdministrativeExpense: double (nullable = false)\n",
      " |-- IncomeTaxesPaid: double (nullable = false)\n",
      " |-- IncreaseDecreaseInAccountsPayable: double (nullable = false)\n",
      " |-- IncreaseDecreaseInAccountsReceivable: double (nullable = false)\n",
      " |-- IncreaseDecreaseInAccruedLiabilities: double (nullable = false)\n",
      " |-- IncreaseDecreaseInInventories: double (nullable = false)\n",
      " |-- LaborAndRelatedExpense: double (nullable = false)\n",
      " |-- NetCashProvidedByUsedInFinancingActivities: double (nullable = false)\n",
      " |-- NetCashProvidedByUsedInFinancingActivitiesContinuingOperations: double (nullable = false)\n",
      " |-- NetCashProvidedByUsedInInvestingActivities: double (nullable = false)\n",
      " |-- NetCashProvidedByUsedInInvestingActivitiesContinuingOperations: double (nullable = false)\n",
      " |-- NetCashProvidedByUsedInOperatingActivities: double (nullable = false)\n",
      " |-- NetCashProvidedByUsedInOperatingActivitiesContinuingOperations: double (nullable = false)\n",
      " |-- NetIncomeLoss: double (nullable = false)\n",
      " |-- OperatingExpenses: double (nullable = false)\n",
      " |-- OperatingIncomeLoss: double (nullable = false)\n",
      " |-- PaymentsForRepurchaseOfCommonStock: double (nullable = false)\n",
      " |-- PaymentsOfDividends: double (nullable = false)\n",
      " |-- PaymentsOfDividendsCommonStock: double (nullable = false)\n",
      " |-- PaymentsOfFinancingCosts: double (nullable = false)\n",
      " |-- PaymentsToAcquireBusinessesNetOfCashAcquired: double (nullable = false)\n",
      " |-- PaymentsToAcquirePropertyPlantAndEquipment: double (nullable = false)\n",
      " |-- RepaymentsOfLongTermDebt: double (nullable = false)\n",
      " |-- ResearchAndDevelopmentExpense: double (nullable = false)\n",
      " |-- Revenues: double (nullable = false)\n",
      " |-- SellingAndMarketingExpense: double (nullable = false)\n",
      " |-- ShareBasedCompensation: double (nullable = false)\n",
      " |-- year: integer (nullable = true)\n",
      " |-- profit_year: integer (nullable = true)\n",
      " |-- profit: double (nullable = false)\n",
      "\n"
     ]
    }
   ],
   "source": [
    "import findspark\n",
    "findspark.init()\n",
    "from pyspark.sql import SparkSession\n",
    "spark = SparkSession.builder.appName('abc').getOrCreate()\n",
    "spark\n",
    "\n",
    "df = spark.read.parquet(\"s3://502-project-1/data\")\n",
    "\n",
    "df.printSchema()\n",
    "\n",
    "df = df.na.fill(0)\n",
    "\n",
    "cols = ['cik', 'company_name', 'assigned_sic', 'accession_number_int', 'filing_date', \n",
    "        'CostOfGoodsAndServicesSold', 'CostOfGoodsSold', 'CostOfServices', 'EarningsPerShareBasic', \n",
    "        'EarningsPerShareDiluted', 'GainLossOnDispositionOfAssets', 'GeneralAndAdministrativeExpense', \n",
    "        'IncomeTaxesPaid', 'IncreaseDecreaseInAccountsPayable', 'IncreaseDecreaseInAccountsReceivable', \n",
    "        'IncreaseDecreaseInAccruedLiabilities', 'IncreaseDecreaseInInventories', 'LaborAndRelatedExpense', \n",
    "        'NetCashProvidedByUsedInFinancingActivities', \n",
    "        'NetCashProvidedByUsedInFinancingActivitiesContinuingOperations', \n",
    "        'NetCashProvidedByUsedInInvestingActivities', \n",
    "        'NetCashProvidedByUsedInInvestingActivitiesContinuingOperations', \n",
    "        'NetCashProvidedByUsedInOperatingActivities', \n",
    "        'NetCashProvidedByUsedInOperatingActivitiesContinuingOperations', 'NetIncomeLoss', 'OperatingExpenses', \n",
    "        'OperatingIncomeLoss', 'PaymentsForRepurchaseOfCommonStock', 'PaymentsOfDividends', \n",
    "        'PaymentsOfDividendsCommonStock', 'PaymentsOfFinancingCosts', \n",
    "        'PaymentsToAcquireBusinessesNetOfCashAcquired', 'PaymentsToAcquirePropertyPlantAndEquipment', \n",
    "        'RepaymentsOfLongTermDebt', 'ResearchAndDevelopmentExpense', 'Revenues', 'SellingAndMarketingExpense', \n",
    "        'ShareBasedCompensation', 'year', 'profit_year', 'profit']\n",
    "\n",
    "from pyspark.ml.feature import VectorAssembler\n",
    "\n",
    "numericCols = ['CostOfGoodsAndServicesSold', 'CostOfGoodsSold', 'CostOfServices', 'EarningsPerShareBasic', \n",
    "               'EarningsPerShareDiluted', 'GainLossOnDispositionOfAssets', 'GeneralAndAdministrativeExpense', \n",
    "               'IncomeTaxesPaid', 'IncreaseDecreaseInAccountsPayable', 'IncreaseDecreaseInAccountsReceivable', \n",
    "               'IncreaseDecreaseInAccruedLiabilities', 'IncreaseDecreaseInInventories', \n",
    "               'LaborAndRelatedExpense', 'NetCashProvidedByUsedInFinancingActivities', \n",
    "               'NetCashProvidedByUsedInFinancingActivitiesContinuingOperations', \n",
    "               'NetCashProvidedByUsedInInvestingActivities', 'NetCashProvidedByUsedInInvestingActivitiesContinuingOperations', \n",
    "               'NetCashProvidedByUsedInOperatingActivities', 'NetCashProvidedByUsedInOperatingActivitiesContinuingOperations', \n",
    "               'NetIncomeLoss', 'OperatingExpenses', 'OperatingIncomeLoss', 'PaymentsForRepurchaseOfCommonStock', \n",
    "               'PaymentsOfDividends', 'PaymentsOfDividendsCommonStock', 'PaymentsOfFinancingCosts', 'PaymentsToAcquireBusinessesNetOfCashAcquired', \n",
    "               'PaymentsToAcquirePropertyPlantAndEquipment', 'RepaymentsOfLongTermDebt', 'ResearchAndDevelopmentExpense', \n",
    "               'Revenues', 'SellingAndMarketingExpense', 'ShareBasedCompensation']\n",
    "\n",
    "assembler = VectorAssembler(inputCols=numericCols, outputCol=\"features\", handleInvalid=\"keep\")\n",
    "\n",
    "from pyspark.ml import Pipeline\n",
    "\n",
    "pipeline = Pipeline(stages=[assembler])\n",
    "\n",
    "from pyspark.sql.functions import isnan, count, when, col, isnull\n",
    "from pyspark.sql.functions import isnan, count, when, col, isnull\n",
    "df.select([count(when(isnull(c), c)).alias(c) for c in df.columns]).show()\n",
    "\n",
    "pipelineModel = pipeline.fit(df)\n",
    "\n",
    "df = pipelineModel.transform(df)\n",
    "selectedCols = ['features'] + cols\n",
    "df = df.select(selectedCols)\n",
    "df.printSchema()"
   ]
  },
  {
   "cell_type": "code",
   "execution_count": 5,
   "metadata": {},
   "outputs": [
    {
     "name": "stdout",
     "output_type": "stream",
     "text": [
      "+---------------------------------------------------------------------------------------------------------------------------------------------------------------------------------------+-------+---------------------------------+------------+--------------------+-----------+--------------------------+---------------+--------------+---------------------+-----------------------+-----------------------------+-------------------------------+---------------+---------------------------------+------------------------------------+------------------------------------+-----------------------------+----------------------+------------------------------------------+--------------------------------------------------------------+------------------------------------------+--------------------------------------------------------------+------------------------------------------+--------------------------------------------------------------+-------------+-----------------+-------------------+----------------------------------+-------------------+------------------------------+------------------------+--------------------------------------------+------------------------------------------+------------------------+-----------------------------+--------+--------------------------+----------------------+----+-----------+---------+\n",
      "|features                                                                                                                                                                               |cik    |company_name                     |assigned_sic|accession_number_int|filing_date|CostOfGoodsAndServicesSold|CostOfGoodsSold|CostOfServices|EarningsPerShareBasic|EarningsPerShareDiluted|GainLossOnDispositionOfAssets|GeneralAndAdministrativeExpense|IncomeTaxesPaid|IncreaseDecreaseInAccountsPayable|IncreaseDecreaseInAccountsReceivable|IncreaseDecreaseInAccruedLiabilities|IncreaseDecreaseInInventories|LaborAndRelatedExpense|NetCashProvidedByUsedInFinancingActivities|NetCashProvidedByUsedInFinancingActivitiesContinuingOperations|NetCashProvidedByUsedInInvestingActivities|NetCashProvidedByUsedInInvestingActivitiesContinuingOperations|NetCashProvidedByUsedInOperatingActivities|NetCashProvidedByUsedInOperatingActivitiesContinuingOperations|NetIncomeLoss|OperatingExpenses|OperatingIncomeLoss|PaymentsForRepurchaseOfCommonStock|PaymentsOfDividends|PaymentsOfDividendsCommonStock|PaymentsOfFinancingCosts|PaymentsToAcquireBusinessesNetOfCashAcquired|PaymentsToAcquirePropertyPlantAndEquipment|RepaymentsOfLongTermDebt|ResearchAndDevelopmentExpense|Revenues|SellingAndMarketingExpense|ShareBasedCompensation|year|profit_year|profit   |\n",
      "+---------------------------------------------------------------------------------------------------------------------------------------------------------------------------------------+-------+---------------------------------+------------+--------------------+-----------+--------------------------+---------------+--------------+---------------------+-----------------------+-----------------------------+-------------------------------+---------------+---------------------------------+------------------------------------+------------------------------------+-----------------------------+----------------------+------------------------------------------+--------------------------------------------------------------+------------------------------------------+--------------------------------------------------------------+------------------------------------------+--------------------------------------------------------------+-------------+-----------------+-------------------+----------------------------------+-------------------+------------------------------+------------------------+--------------------------------------------+------------------------------------------+------------------------+-----------------------------+--------+--------------------------+----------------------+----+-----------+---------+\n",
      "|(33,[3,4,9,13,15,17,19,20,21,22,24,26,27,32],[4.13,4.06,2.08947E8,-2.11397E8,-2.05337E8,1.59135E8,2.92536E8,1.403985E9,2.54699E8,6.255E7,7962000.0,1.45558E8,5.7973E7,2.74E7])         |706688 |AARON'S INC                      |7359        |70668818000032      |2018-03-01 |0.0                       |0.0            |0.0           |4.13                 |4.06                   |0.0                          |0.0                            |0.0            |0.0                              |2.08947E8                           |0.0                                 |0.0                          |0.0                   |-2.11397E8                                |0.0                                                           |-2.05337E8                                |0.0                                                           |1.59135E8                                 |0.0                                                           |2.92536E8    |1.403985E9       |2.54699E8          |6.255E7                           |0.0                |7962000.0                     |0.0                     |1.45558E8                                   |5.7973E7                                  |0.0                     |0.0                          |0.0     |0.0                       |2.74E7                |2017|2018       |2.89608E8|\n",
      "|(33,[8,9,10,13,15,17,19,32],[329000.0,-1000.0,827000.0,1.04823E8,-2675000.0,-3.5126E7,-4.5498E7,8388000.0])                                                                            |727207 |ACCELERATE DIAGNOSTICS, INC      |3826        |162828016012510     |2016-03-09 |0.0                       |0.0            |0.0           |0.0                  |0.0                    |0.0                          |0.0                            |0.0            |329000.0                         |-1000.0                             |827000.0                            |0.0                          |0.0                   |1.04823E8                                 |0.0                                                           |-2675000.0                                |0.0                                                           |-3.5126E7                                 |0.0                                                           |-4.5498E7    |0.0              |0.0                |0.0                               |0.0                |0.0                           |0.0                     |0.0                                         |0.0                                       |0.0                     |0.0                          |0.0     |0.0                       |8388000.0             |2015|2016       |0.0      |\n",
      "|(33,[1,3,4,8,9,11,13,15,17,19,20,21,22,27,28,32],[1.1593E9,0.81,0.79,-1.01E7,-2.04E7,-1.16E7,-1.42E8,-2.58E7,1.717E8,9.16E7,3.563E8,1.736E8,1.94E7,2.96E7,1.211E8,1.57E7])             |712034 |ACCO BRANDS CORP                 |2780        |71203415000008      |2015-02-25 |0.0                       |1.1593E9       |0.0           |0.81                 |0.79                   |0.0                          |0.0                            |0.0            |-1.01E7                          |-2.04E7                             |0.0                                 |-1.16E7                      |0.0                   |-1.42E8                                   |0.0                                                           |-2.58E7                                   |0.0                                                           |1.717E8                                   |0.0                                                           |9.16E7       |3.563E8          |1.736E8            |1.94E7                            |0.0                |0.0                           |0.0                     |0.0                                         |2.96E7                                    |1.211E8                 |0.0                          |0.0     |0.0                       |1.57E7                |2014|2015       |1.635E8  |\n",
      "|(33,[6,8,9,10,11,13,15,17,21,27,28,30,32],[7.7435E7,1886000.0,-1738000.0,1119000.0,142000.0,-8600000.0,-1.4203E7,3.6787E7,2.8999E7,3.172E7,1.1744E7,4.4558E8,1169000.0])               |1499268|AFFINITY GAMING                  |7011        |144530514001207     |2014-03-31 |0.0                       |0.0            |0.0           |0.0                  |0.0                    |0.0                          |7.7435E7                       |0.0            |1886000.0                        |-1738000.0                          |1119000.0                           |142000.0                     |0.0                   |-8600000.0                                |0.0                                                           |-1.4203E7                                 |0.0                                                           |3.6787E7                                  |0.0                                                           |0.0          |0.0              |2.8999E7           |0.0                               |0.0                |0.0                           |0.0                     |0.0                                         |3.172E7                                   |1.1744E7                |0.0                          |4.4558E8|0.0                       |1169000.0             |2013|2014       |2.1936E7 |\n",
      "|(33,[7,8,9,10,11,13,15,17,19,22,23,27,28,32],[-450000.0,2944000.0,1416000.0,491000.0,258000.0,-1.4666E7,-4339000.0,9343000.0,9641000.0,4780000.0,1.096E7,1450000.0,230000.0,1066000.0])|1122342|ALLIANCE FIBER OPTIC PRODUCTS INC|3674        |120677413001097     |2013-03-20 |0.0                       |0.0            |0.0           |0.0                  |0.0                    |0.0                          |0.0                            |-450000.0      |2944000.0                        |1416000.0                           |491000.0                            |258000.0                     |0.0                   |-1.4666E7                                 |0.0                                                           |-4339000.0                                |0.0                                                           |9343000.0                                 |0.0                                                           |9641000.0    |0.0              |0.0                |4780000.0                         |1.096E7            |0.0                           |0.0                     |0.0                                         |1450000.0                                 |230000.0                |0.0                          |0.0     |0.0                       |1066000.0             |2012|2013       |0.0      |\n",
      "+---------------------------------------------------------------------------------------------------------------------------------------------------------------------------------------+-------+---------------------------------+------------+--------------------+-----------+--------------------------+---------------+--------------+---------------------+-----------------------+-----------------------------+-------------------------------+---------------+---------------------------------+------------------------------------+------------------------------------+-----------------------------+----------------------+------------------------------------------+--------------------------------------------------------------+------------------------------------------+--------------------------------------------------------------+------------------------------------------+--------------------------------------------------------------+-------------+-----------------+-------------------+----------------------------------+-------------------+------------------------------+------------------------+--------------------------------------------+------------------------------------------+------------------------+-----------------------------+--------+--------------------------+----------------------+----+-----------+---------+\n",
      "only showing top 5 rows\n",
      "\n"
     ]
    }
   ],
   "source": [
    "df.show(5,False)"
   ]
  },
  {
   "cell_type": "code",
   "execution_count": 6,
   "metadata": {},
   "outputs": [],
   "source": [
    "train, test = df.randomSplit([0.85, 0.15], seed=1)"
   ]
  },
  {
   "cell_type": "code",
   "execution_count": 7,
   "metadata": {},
   "outputs": [
    {
     "name": "stdout",
     "output_type": "stream",
     "text": [
      "+----------------------------------------------------------------------------------------------------------------------------------------------------------------------------------------------------------------------------------------+-------+------------------------+------------+--------------------+-----------+--------------------------+---------------+--------------+---------------------+-----------------------+-----------------------------+-------------------------------+---------------+---------------------------------+------------------------------------+------------------------------------+-----------------------------+----------------------+------------------------------------------+--------------------------------------------------------------+------------------------------------------+--------------------------------------------------------------+------------------------------------------+--------------------------------------------------------------+-------------+-----------------+-------------------+----------------------------------+-------------------+------------------------------+------------------------+--------------------------------------------+------------------------------------------+------------------------+-----------------------------+---------+--------------------------+----------------------+----+-----------+---------+\n",
      "|features                                                                                                                                                                                                                                |cik    |company_name            |assigned_sic|accession_number_int|filing_date|CostOfGoodsAndServicesSold|CostOfGoodsSold|CostOfServices|EarningsPerShareBasic|EarningsPerShareDiluted|GainLossOnDispositionOfAssets|GeneralAndAdministrativeExpense|IncomeTaxesPaid|IncreaseDecreaseInAccountsPayable|IncreaseDecreaseInAccountsReceivable|IncreaseDecreaseInAccruedLiabilities|IncreaseDecreaseInInventories|LaborAndRelatedExpense|NetCashProvidedByUsedInFinancingActivities|NetCashProvidedByUsedInFinancingActivitiesContinuingOperations|NetCashProvidedByUsedInInvestingActivities|NetCashProvidedByUsedInInvestingActivitiesContinuingOperations|NetCashProvidedByUsedInOperatingActivities|NetCashProvidedByUsedInOperatingActivitiesContinuingOperations|NetIncomeLoss|OperatingExpenses|OperatingIncomeLoss|PaymentsForRepurchaseOfCommonStock|PaymentsOfDividends|PaymentsOfDividendsCommonStock|PaymentsOfFinancingCosts|PaymentsToAcquireBusinessesNetOfCashAcquired|PaymentsToAcquirePropertyPlantAndEquipment|RepaymentsOfLongTermDebt|ResearchAndDevelopmentExpense|Revenues |SellingAndMarketingExpense|ShareBasedCompensation|year|profit_year|profit   |\n",
      "+----------------------------------------------------------------------------------------------------------------------------------------------------------------------------------------------------------------------------------------+-------+------------------------+------------+--------------------+-----------+--------------------------+---------------+--------------+---------------------+-----------------------+-----------------------------+-------------------------------+---------------+---------------------------------+------------------------------------+------------------------------------+-----------------------------+----------------------+------------------------------------------+--------------------------------------------------------------+------------------------------------------+--------------------------------------------------------------+------------------------------------------+--------------------------------------------------------------+-------------+-----------------+-------------------+----------------------------------+-------------------+------------------------------+------------------------+--------------------------------------------+------------------------------------------+------------------------+-----------------------------+---------+--------------------------+----------------------+----+-----------+---------+\n",
      "|(33,[0,1,2,3,4,6,8,11,13,15,17,19,20,21,27,29,30,31,32],[2.61805E8,1.8883E8,7.2975E7,-3.33,-3.33,2.9113E7,1.1527E7,9.7688E7,-332000.0,-1.3663E7,-7.3341E7,-1.33829E8,1.96352E8,-6.5648E7,1.7467E7,9.8777E7,3.92509E8,5.9894E7,1.0849E7])|949158 |CRAY INC                |3571        |94915818000011      |2018-02-15 |2.61805E8                 |1.8883E8       |7.2975E7      |-3.33                |-3.33                  |0.0                          |2.9113E7                       |0.0            |1.1527E7                         |0.0                                 |0.0                                 |9.7688E7                     |0.0                   |-332000.0                                 |0.0                                                           |-1.3663E7                                 |0.0                                                           |-7.3341E7                                 |0.0                                                           |-1.33829E8   |1.96352E8        |-6.5648E7          |0.0                               |0.0                |0.0                           |0.0                     |0.0                                         |1.7467E7                                  |0.0                     |9.8777E7                     |3.92509E8|5.9894E7                  |1.0849E7              |2017|2018       |-7.4248E7|\n",
      "|(33,[0,1,2,3,4,6,9,11,14,16,18,20,21,25,27,29,31,32],[1.67382E8,1.49007E8,1.8375E7,0.38,0.36,2.4452E7,1.4135E7,6572000.0,2430000.0,-2236000.0,-8799000.0,8.2975E7,1.6623E7,146000.0,2506000.0,3.4402E7,2.3839E7,5179000.0])             |1113232|AXCELIS TECHNOLOGIES INC|3559        |155837017001778     |2017-03-14 |1.67382E8                 |1.49007E8      |1.8375E7      |0.38                 |0.36                   |0.0                          |2.4452E7                       |0.0            |0.0                              |1.4135E7                            |0.0                                 |6572000.0                    |0.0                   |0.0                                       |2430000.0                                                     |0.0                                       |-2236000.0                                                    |0.0                                       |-8799000.0                                                    |0.0          |8.2975E7         |1.6623E7           |0.0                               |0.0                |0.0                           |146000.0                |0.0                                         |2506000.0                                 |0.0                     |3.4402E7                     |0.0      |2.3839E7                  |5179000.0             |2016|2017       |4.7842E7 |\n",
      "|(33,[0,1,2,3,4,6,9,11,14,16,18,20,21,27,29,31,32],[1.45214E8,1.23593E8,2.1621E7,-0.32,-0.32,2.6554E7,-1.0478E7,-5903000.0,1299000.0,8123000.0,-1.0597E7,8.9109E7,-3.0938E7,591000.0,4.0401E7,2.5889E7,3976000.0])                       |1113232|AXCELIS TECHNOLOGIES INC|3559        |104746913002045     |2013-03-01 |1.45214E8                 |1.23593E8      |2.1621E7      |-0.32                |-0.32                  |0.0                          |2.6554E7                       |0.0            |0.0                              |-1.0478E7                           |0.0                                 |-5903000.0                   |0.0                   |0.0                                       |1299000.0                                                     |0.0                                       |8123000.0                                                     |0.0                                       |-1.0597E7                                                     |0.0          |8.9109E7         |-3.0938E7          |0.0                               |0.0                |0.0                           |0.0                     |0.0                                         |591000.0                                  |0.0                     |4.0401E7                     |0.0      |2.5889E7                  |3976000.0             |2012|2013       |-1.4618E7|\n",
      "|(33,[0,1,2,9,11,13,15,17,21,22,26,28,29,32],[7.83456E8,5.26721E8,2.56735E8,3.5233E7,1.1389E7,-6.4588E7,-4.64729E8,4.84876E8,5.17343E8,3.0158E8,4.1395E7,8.86644E8,1.00536E8,3.1708E7])                                                  |1000697|WATERS CORP /DE/        |3826        |119312514072515     |2014-02-27 |7.83456E8                 |5.26721E8      |2.56735E8     |0.0                  |0.0                    |0.0                          |0.0                            |0.0            |0.0                              |3.5233E7                            |0.0                                 |1.1389E7                     |0.0                   |-6.4588E7                                 |0.0                                                           |-4.64729E8                                |0.0                                                           |4.84876E8                                 |0.0                                                           |0.0          |0.0              |5.17343E8          |3.0158E8                          |0.0                |0.0                           |0.0                     |4.1395E7                                    |0.0                                       |8.86644E8               |1.00536E8                    |0.0      |0.0                       |3.1708E7              |2013|2014       |5.17908E8|\n",
      "|(33,[0,1,3,4,6,7,9,11,13,15,17,19,20,21,27],[1.7635911E7,1.5562256E7,0.15,0.15,3544343.0,427370.0,-5486362.0,-1245223.0,3972848.0,-1.2004483E7,9597379.0,1187981.0,4704284.0,2058226.0,1.2105921E7])                                    |1429360|WOWJOINT HOLDINGS LTD   |3537        |114420412026226     |2012-05-04 |1.7635911E7               |1.5562256E7    |0.0           |0.15                 |0.15                   |0.0                          |3544343.0                      |427370.0       |0.0                              |-5486362.0                          |0.0                                 |-1245223.0                   |0.0                   |3972848.0                                 |0.0                                                           |-1.2004483E7                              |0.0                                                           |9597379.0                                 |0.0                                                           |1187981.0    |4704284.0        |2058226.0          |0.0                               |0.0                |0.0                           |0.0                     |0.0                                         |1.2105921E7                               |0.0                     |0.0                          |0.0      |0.0                       |0.0                   |2011|2012       |0.0      |\n",
      "+----------------------------------------------------------------------------------------------------------------------------------------------------------------------------------------------------------------------------------------+-------+------------------------+------------+--------------------+-----------+--------------------------+---------------+--------------+---------------------+-----------------------+-----------------------------+-------------------------------+---------------+---------------------------------+------------------------------------+------------------------------------+-----------------------------+----------------------+------------------------------------------+--------------------------------------------------------------+------------------------------------------+--------------------------------------------------------------+------------------------------------------+--------------------------------------------------------------+-------------+-----------------+-------------------+----------------------------------+-------------------+------------------------------+------------------------+--------------------------------------------+------------------------------------------+------------------------+-----------------------------+---------+--------------------------+----------------------+----+-----------+---------+\n",
      "only showing top 5 rows\n",
      "\n"
     ]
    }
   ],
   "source": [
    "train.show(5,False)"
   ]
  },
  {
   "cell_type": "code",
   "execution_count": 8,
   "metadata": {},
   "outputs": [],
   "source": [
    "from pyspark.ml.classification import LogisticRegression"
   ]
  },
  {
   "cell_type": "code",
   "execution_count": 9,
   "metadata": {},
   "outputs": [],
   "source": [
    "lr = LogisticRegression(featuresCol = 'features', labelCol = 'profit', maxIter=10)"
   ]
  },
  {
   "cell_type": "code",
   "execution_count": 10,
   "metadata": {},
   "outputs": [
    {
     "name": "stderr",
     "output_type": "stream",
     "text": [
      "ERROR:root:Exception while sending command.\n",
      "Traceback (most recent call last):\n",
      "  File \"/usr/lib/spark/python/lib/py4j-0.10.7-src.zip/py4j/java_gateway.py\", line 1159, in send_command\n",
      "    raise Py4JNetworkError(\"Answer from Java side is empty\")\n",
      "py4j.protocol.Py4JNetworkError: Answer from Java side is empty\n",
      "\n",
      "During handling of the above exception, another exception occurred:\n",
      "\n",
      "Traceback (most recent call last):\n",
      "  File \"/usr/lib/spark/python/lib/py4j-0.10.7-src.zip/py4j/java_gateway.py\", line 985, in send_command\n",
      "    response = connection.send_command(command)\n",
      "  File \"/usr/lib/spark/python/lib/py4j-0.10.7-src.zip/py4j/java_gateway.py\", line 1164, in send_command\n",
      "    \"Error while receiving\", e, proto.ERROR_ON_RECEIVE)\n",
      "py4j.protocol.Py4JNetworkError: Error while receiving\n"
     ]
    },
    {
     "ename": "Py4JError",
     "evalue": "An error occurred while calling o372.fit",
     "output_type": "error",
     "traceback": [
      "\u001b[0;31m---------------------------------------------------------------------------\u001b[0m",
      "\u001b[0;31mPy4JError\u001b[0m                                 Traceback (most recent call last)",
      "\u001b[0;32m<ipython-input-10-059bc9d8ea7f>\u001b[0m in \u001b[0;36m<module>\u001b[0;34m\u001b[0m\n\u001b[0;32m----> 1\u001b[0;31m \u001b[0mlrModel\u001b[0m \u001b[0;34m=\u001b[0m \u001b[0mlr\u001b[0m\u001b[0;34m.\u001b[0m\u001b[0mfit\u001b[0m\u001b[0;34m(\u001b[0m\u001b[0mtrain\u001b[0m\u001b[0;34m)\u001b[0m\u001b[0;34m\u001b[0m\u001b[0;34m\u001b[0m\u001b[0m\n\u001b[0m",
      "\u001b[0;32m/usr/lib/spark/python/pyspark/ml/base.py\u001b[0m in \u001b[0;36mfit\u001b[0;34m(self, dataset, params)\u001b[0m\n\u001b[1;32m    130\u001b[0m                 \u001b[0;32mreturn\u001b[0m \u001b[0mself\u001b[0m\u001b[0;34m.\u001b[0m\u001b[0mcopy\u001b[0m\u001b[0;34m(\u001b[0m\u001b[0mparams\u001b[0m\u001b[0;34m)\u001b[0m\u001b[0;34m.\u001b[0m\u001b[0m_fit\u001b[0m\u001b[0;34m(\u001b[0m\u001b[0mdataset\u001b[0m\u001b[0;34m)\u001b[0m\u001b[0;34m\u001b[0m\u001b[0;34m\u001b[0m\u001b[0m\n\u001b[1;32m    131\u001b[0m             \u001b[0;32melse\u001b[0m\u001b[0;34m:\u001b[0m\u001b[0;34m\u001b[0m\u001b[0;34m\u001b[0m\u001b[0m\n\u001b[0;32m--> 132\u001b[0;31m                 \u001b[0;32mreturn\u001b[0m \u001b[0mself\u001b[0m\u001b[0;34m.\u001b[0m\u001b[0m_fit\u001b[0m\u001b[0;34m(\u001b[0m\u001b[0mdataset\u001b[0m\u001b[0;34m)\u001b[0m\u001b[0;34m\u001b[0m\u001b[0;34m\u001b[0m\u001b[0m\n\u001b[0m\u001b[1;32m    133\u001b[0m         \u001b[0;32melse\u001b[0m\u001b[0;34m:\u001b[0m\u001b[0;34m\u001b[0m\u001b[0;34m\u001b[0m\u001b[0m\n\u001b[1;32m    134\u001b[0m             raise ValueError(\"Params must be either a param map or a list/tuple of param maps, \"\n",
      "\u001b[0;32m/usr/lib/spark/python/pyspark/ml/wrapper.py\u001b[0m in \u001b[0;36m_fit\u001b[0;34m(self, dataset)\u001b[0m\n\u001b[1;32m    293\u001b[0m \u001b[0;34m\u001b[0m\u001b[0m\n\u001b[1;32m    294\u001b[0m     \u001b[0;32mdef\u001b[0m \u001b[0m_fit\u001b[0m\u001b[0;34m(\u001b[0m\u001b[0mself\u001b[0m\u001b[0;34m,\u001b[0m \u001b[0mdataset\u001b[0m\u001b[0;34m)\u001b[0m\u001b[0;34m:\u001b[0m\u001b[0;34m\u001b[0m\u001b[0;34m\u001b[0m\u001b[0m\n\u001b[0;32m--> 295\u001b[0;31m         \u001b[0mjava_model\u001b[0m \u001b[0;34m=\u001b[0m \u001b[0mself\u001b[0m\u001b[0;34m.\u001b[0m\u001b[0m_fit_java\u001b[0m\u001b[0;34m(\u001b[0m\u001b[0mdataset\u001b[0m\u001b[0;34m)\u001b[0m\u001b[0;34m\u001b[0m\u001b[0;34m\u001b[0m\u001b[0m\n\u001b[0m\u001b[1;32m    296\u001b[0m         \u001b[0mmodel\u001b[0m \u001b[0;34m=\u001b[0m \u001b[0mself\u001b[0m\u001b[0;34m.\u001b[0m\u001b[0m_create_model\u001b[0m\u001b[0;34m(\u001b[0m\u001b[0mjava_model\u001b[0m\u001b[0;34m)\u001b[0m\u001b[0;34m\u001b[0m\u001b[0;34m\u001b[0m\u001b[0m\n\u001b[1;32m    297\u001b[0m         \u001b[0;32mreturn\u001b[0m \u001b[0mself\u001b[0m\u001b[0;34m.\u001b[0m\u001b[0m_copyValues\u001b[0m\u001b[0;34m(\u001b[0m\u001b[0mmodel\u001b[0m\u001b[0;34m)\u001b[0m\u001b[0;34m\u001b[0m\u001b[0;34m\u001b[0m\u001b[0m\n",
      "\u001b[0;32m/usr/lib/spark/python/pyspark/ml/wrapper.py\u001b[0m in \u001b[0;36m_fit_java\u001b[0;34m(self, dataset)\u001b[0m\n\u001b[1;32m    290\u001b[0m         \"\"\"\n\u001b[1;32m    291\u001b[0m         \u001b[0mself\u001b[0m\u001b[0;34m.\u001b[0m\u001b[0m_transfer_params_to_java\u001b[0m\u001b[0;34m(\u001b[0m\u001b[0;34m)\u001b[0m\u001b[0;34m\u001b[0m\u001b[0;34m\u001b[0m\u001b[0m\n\u001b[0;32m--> 292\u001b[0;31m         \u001b[0;32mreturn\u001b[0m \u001b[0mself\u001b[0m\u001b[0;34m.\u001b[0m\u001b[0m_java_obj\u001b[0m\u001b[0;34m.\u001b[0m\u001b[0mfit\u001b[0m\u001b[0;34m(\u001b[0m\u001b[0mdataset\u001b[0m\u001b[0;34m.\u001b[0m\u001b[0m_jdf\u001b[0m\u001b[0;34m)\u001b[0m\u001b[0;34m\u001b[0m\u001b[0;34m\u001b[0m\u001b[0m\n\u001b[0m\u001b[1;32m    293\u001b[0m \u001b[0;34m\u001b[0m\u001b[0m\n\u001b[1;32m    294\u001b[0m     \u001b[0;32mdef\u001b[0m \u001b[0m_fit\u001b[0m\u001b[0;34m(\u001b[0m\u001b[0mself\u001b[0m\u001b[0;34m,\u001b[0m \u001b[0mdataset\u001b[0m\u001b[0;34m)\u001b[0m\u001b[0;34m:\u001b[0m\u001b[0;34m\u001b[0m\u001b[0;34m\u001b[0m\u001b[0m\n",
      "\u001b[0;32m/usr/lib/spark/python/lib/py4j-0.10.7-src.zip/py4j/java_gateway.py\u001b[0m in \u001b[0;36m__call__\u001b[0;34m(self, *args)\u001b[0m\n\u001b[1;32m   1255\u001b[0m         \u001b[0manswer\u001b[0m \u001b[0;34m=\u001b[0m \u001b[0mself\u001b[0m\u001b[0;34m.\u001b[0m\u001b[0mgateway_client\u001b[0m\u001b[0;34m.\u001b[0m\u001b[0msend_command\u001b[0m\u001b[0;34m(\u001b[0m\u001b[0mcommand\u001b[0m\u001b[0;34m)\u001b[0m\u001b[0;34m\u001b[0m\u001b[0;34m\u001b[0m\u001b[0m\n\u001b[1;32m   1256\u001b[0m         return_value = get_return_value(\n\u001b[0;32m-> 1257\u001b[0;31m             answer, self.gateway_client, self.target_id, self.name)\n\u001b[0m\u001b[1;32m   1258\u001b[0m \u001b[0;34m\u001b[0m\u001b[0m\n\u001b[1;32m   1259\u001b[0m         \u001b[0;32mfor\u001b[0m \u001b[0mtemp_arg\u001b[0m \u001b[0;32min\u001b[0m \u001b[0mtemp_args\u001b[0m\u001b[0;34m:\u001b[0m\u001b[0;34m\u001b[0m\u001b[0;34m\u001b[0m\u001b[0m\n",
      "\u001b[0;32m/usr/lib/spark/python/pyspark/sql/utils.py\u001b[0m in \u001b[0;36mdeco\u001b[0;34m(*a, **kw)\u001b[0m\n\u001b[1;32m     61\u001b[0m     \u001b[0;32mdef\u001b[0m \u001b[0mdeco\u001b[0m\u001b[0;34m(\u001b[0m\u001b[0;34m*\u001b[0m\u001b[0ma\u001b[0m\u001b[0;34m,\u001b[0m \u001b[0;34m**\u001b[0m\u001b[0mkw\u001b[0m\u001b[0;34m)\u001b[0m\u001b[0;34m:\u001b[0m\u001b[0;34m\u001b[0m\u001b[0;34m\u001b[0m\u001b[0m\n\u001b[1;32m     62\u001b[0m         \u001b[0;32mtry\u001b[0m\u001b[0;34m:\u001b[0m\u001b[0;34m\u001b[0m\u001b[0;34m\u001b[0m\u001b[0m\n\u001b[0;32m---> 63\u001b[0;31m             \u001b[0;32mreturn\u001b[0m \u001b[0mf\u001b[0m\u001b[0;34m(\u001b[0m\u001b[0;34m*\u001b[0m\u001b[0ma\u001b[0m\u001b[0;34m,\u001b[0m \u001b[0;34m**\u001b[0m\u001b[0mkw\u001b[0m\u001b[0;34m)\u001b[0m\u001b[0;34m\u001b[0m\u001b[0;34m\u001b[0m\u001b[0m\n\u001b[0m\u001b[1;32m     64\u001b[0m         \u001b[0;32mexcept\u001b[0m \u001b[0mpy4j\u001b[0m\u001b[0;34m.\u001b[0m\u001b[0mprotocol\u001b[0m\u001b[0;34m.\u001b[0m\u001b[0mPy4JJavaError\u001b[0m \u001b[0;32mas\u001b[0m \u001b[0me\u001b[0m\u001b[0;34m:\u001b[0m\u001b[0;34m\u001b[0m\u001b[0;34m\u001b[0m\u001b[0m\n\u001b[1;32m     65\u001b[0m             \u001b[0ms\u001b[0m \u001b[0;34m=\u001b[0m \u001b[0me\u001b[0m\u001b[0;34m.\u001b[0m\u001b[0mjava_exception\u001b[0m\u001b[0;34m.\u001b[0m\u001b[0mtoString\u001b[0m\u001b[0;34m(\u001b[0m\u001b[0;34m)\u001b[0m\u001b[0;34m\u001b[0m\u001b[0;34m\u001b[0m\u001b[0m\n",
      "\u001b[0;32m/usr/lib/spark/python/lib/py4j-0.10.7-src.zip/py4j/protocol.py\u001b[0m in \u001b[0;36mget_return_value\u001b[0;34m(answer, gateway_client, target_id, name)\u001b[0m\n\u001b[1;32m    334\u001b[0m             raise Py4JError(\n\u001b[1;32m    335\u001b[0m                 \u001b[0;34m\"An error occurred while calling {0}{1}{2}\"\u001b[0m\u001b[0;34m.\u001b[0m\u001b[0;34m\u001b[0m\u001b[0;34m\u001b[0m\u001b[0m\n\u001b[0;32m--> 336\u001b[0;31m                 format(target_id, \".\", name))\n\u001b[0m\u001b[1;32m    337\u001b[0m     \u001b[0;32melse\u001b[0m\u001b[0;34m:\u001b[0m\u001b[0;34m\u001b[0m\u001b[0;34m\u001b[0m\u001b[0m\n\u001b[1;32m    338\u001b[0m         \u001b[0mtype\u001b[0m \u001b[0;34m=\u001b[0m \u001b[0manswer\u001b[0m\u001b[0;34m[\u001b[0m\u001b[0;36m1\u001b[0m\u001b[0;34m]\u001b[0m\u001b[0;34m\u001b[0m\u001b[0;34m\u001b[0m\u001b[0m\n",
      "\u001b[0;31mPy4JError\u001b[0m: An error occurred while calling o372.fit"
     ]
    }
   ],
   "source": [
    "lrModel = lr.fit(train)"
   ]
  },
  {
   "cell_type": "code",
   "execution_count": null,
   "metadata": {},
   "outputs": [],
   "source": []
  }
 ],
 "metadata": {
  "kernelspec": {
   "display_name": "Python 3",
   "language": "python",
   "name": "python3"
  },
  "language_info": {
   "codemirror_mode": {
    "name": "ipython",
    "version": 3
   },
   "file_extension": ".py",
   "mimetype": "text/x-python",
   "name": "python",
   "nbconvert_exporter": "python",
   "pygments_lexer": "ipython3",
   "version": "3.7.6"
  }
 },
 "nbformat": 4,
 "nbformat_minor": 4
}
