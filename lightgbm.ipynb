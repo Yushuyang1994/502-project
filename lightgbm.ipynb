{
 "cells": [
  {
   "cell_type": "code",
   "execution_count": 1,
   "metadata": {},
   "outputs": [
    {
     "name": "stdout",
     "output_type": "stream",
     "text": [
      "root\n",
      " |-- cik: integer (nullable = true)\n",
      " |-- company_name: string (nullable = true)\n",
      " |-- assigned_sic: integer (nullable = true)\n",
      " |-- accession_number_int: long (nullable = true)\n",
      " |-- filing_date: date (nullable = true)\n",
      " |-- CostOfGoodsAndServicesSold: double (nullable = true)\n",
      " |-- CostOfGoodsSold: double (nullable = true)\n",
      " |-- CostOfServices: double (nullable = true)\n",
      " |-- EarningsPerShareBasic: double (nullable = true)\n",
      " |-- EarningsPerShareDiluted: double (nullable = true)\n",
      " |-- GainLossOnDispositionOfAssets: double (nullable = true)\n",
      " |-- GeneralAndAdministrativeExpense: double (nullable = true)\n",
      " |-- IncomeTaxesPaid: double (nullable = true)\n",
      " |-- IncreaseDecreaseInAccountsPayable: double (nullable = true)\n",
      " |-- IncreaseDecreaseInAccountsReceivable: double (nullable = true)\n",
      " |-- IncreaseDecreaseInAccruedLiabilities: double (nullable = true)\n",
      " |-- IncreaseDecreaseInInventories: double (nullable = true)\n",
      " |-- LaborAndRelatedExpense: double (nullable = true)\n",
      " |-- NetCashProvidedByUsedInFinancingActivities: double (nullable = true)\n",
      " |-- NetCashProvidedByUsedInFinancingActivitiesContinuingOperations: double (nullable = true)\n",
      " |-- NetCashProvidedByUsedInInvestingActivities: double (nullable = true)\n",
      " |-- NetCashProvidedByUsedInInvestingActivitiesContinuingOperations: double (nullable = true)\n",
      " |-- NetCashProvidedByUsedInOperatingActivities: double (nullable = true)\n",
      " |-- NetCashProvidedByUsedInOperatingActivitiesContinuingOperations: double (nullable = true)\n",
      " |-- NetIncomeLoss: double (nullable = true)\n",
      " |-- OperatingExpenses: double (nullable = true)\n",
      " |-- OperatingIncomeLoss: double (nullable = true)\n",
      " |-- PaymentsForRepurchaseOfCommonStock: double (nullable = true)\n",
      " |-- PaymentsOfDividends: double (nullable = true)\n",
      " |-- PaymentsOfDividendsCommonStock: double (nullable = true)\n",
      " |-- PaymentsOfFinancingCosts: double (nullable = true)\n",
      " |-- PaymentsToAcquireBusinessesNetOfCashAcquired: double (nullable = true)\n",
      " |-- PaymentsToAcquirePropertyPlantAndEquipment: double (nullable = true)\n",
      " |-- RepaymentsOfLongTermDebt: double (nullable = true)\n",
      " |-- ResearchAndDevelopmentExpense: double (nullable = true)\n",
      " |-- Revenues: double (nullable = true)\n",
      " |-- SellingAndMarketingExpense: double (nullable = true)\n",
      " |-- ShareBasedCompensation: double (nullable = true)\n",
      " |-- year: integer (nullable = true)\n",
      " |-- profit_year: integer (nullable = true)\n",
      " |-- profit: double (nullable = true)\n",
      "\n",
      "+---+------------+------------+--------------------+-----------+--------------------------+---------------+--------------+---------------------+-----------------------+-----------------------------+-------------------------------+---------------+---------------------------------+------------------------------------+------------------------------------+-----------------------------+----------------------+------------------------------------------+--------------------------------------------------------------+------------------------------------------+--------------------------------------------------------------+------------------------------------------+--------------------------------------------------------------+-------------+-----------------+-------------------+----------------------------------+-------------------+------------------------------+------------------------+--------------------------------------------+------------------------------------------+------------------------+-----------------------------+--------+--------------------------+----------------------+----+-----------+------+\n",
      "|cik|company_name|assigned_sic|accession_number_int|filing_date|CostOfGoodsAndServicesSold|CostOfGoodsSold|CostOfServices|EarningsPerShareBasic|EarningsPerShareDiluted|GainLossOnDispositionOfAssets|GeneralAndAdministrativeExpense|IncomeTaxesPaid|IncreaseDecreaseInAccountsPayable|IncreaseDecreaseInAccountsReceivable|IncreaseDecreaseInAccruedLiabilities|IncreaseDecreaseInInventories|LaborAndRelatedExpense|NetCashProvidedByUsedInFinancingActivities|NetCashProvidedByUsedInFinancingActivitiesContinuingOperations|NetCashProvidedByUsedInInvestingActivities|NetCashProvidedByUsedInInvestingActivitiesContinuingOperations|NetCashProvidedByUsedInOperatingActivities|NetCashProvidedByUsedInOperatingActivitiesContinuingOperations|NetIncomeLoss|OperatingExpenses|OperatingIncomeLoss|PaymentsForRepurchaseOfCommonStock|PaymentsOfDividends|PaymentsOfDividendsCommonStock|PaymentsOfFinancingCosts|PaymentsToAcquireBusinessesNetOfCashAcquired|PaymentsToAcquirePropertyPlantAndEquipment|RepaymentsOfLongTermDebt|ResearchAndDevelopmentExpense|Revenues|SellingAndMarketingExpense|ShareBasedCompensation|year|profit_year|profit|\n",
      "+---+------------+------------+--------------------+-----------+--------------------------+---------------+--------------+---------------------+-----------------------+-----------------------------+-------------------------------+---------------+---------------------------------+------------------------------------+------------------------------------+-----------------------------+----------------------+------------------------------------------+--------------------------------------------------------------+------------------------------------------+--------------------------------------------------------------+------------------------------------------+--------------------------------------------------------------+-------------+-----------------+-------------------+----------------------------------+-------------------+------------------------------+------------------------+--------------------------------------------+------------------------------------------+------------------------+-----------------------------+--------+--------------------------+----------------------+----+-----------+------+\n",
      "|  0|           0|           3|                   0|          0|                     15324|          13517|         15831|                 7900|                   8206|                        15756|                           8797|          12842|                             9722|                                6843|                               12971|                         9267|                 16537|                                      4985|                                                         12684|                                      5752|                                                         12658|                                      4767|                                                         12184|         2032|             8993|                620|                             12012|              15561|                         14584|                   15257|                                       12624|                                      6311|                   12752|                        12355|   10089|                     14877|                  5348|   0|          0|     0|\n",
      "+---+------------+------------+--------------------+-----------+--------------------------+---------------+--------------+---------------------+-----------------------+-----------------------------+-------------------------------+---------------+---------------------------------+------------------------------------+------------------------------------+-----------------------------+----------------------+------------------------------------------+--------------------------------------------------------------+------------------------------------------+--------------------------------------------------------------+------------------------------------------+--------------------------------------------------------------+-------------+-----------------+-------------------+----------------------------------+-------------------+------------------------------+------------------------+--------------------------------------------+------------------------------------------+------------------------+-----------------------------+--------+--------------------------+----------------------+----+-----------+------+\n",
      "\n",
      "root\n",
      " |-- features: vector (nullable = true)\n",
      " |-- cik: integer (nullable = true)\n",
      " |-- company_name: string (nullable = true)\n",
      " |-- assigned_sic: integer (nullable = true)\n",
      " |-- accession_number_int: long (nullable = true)\n",
      " |-- filing_date: date (nullable = true)\n",
      " |-- CostOfGoodsAndServicesSold: double (nullable = false)\n",
      " |-- CostOfGoodsSold: double (nullable = false)\n",
      " |-- CostOfServices: double (nullable = false)\n",
      " |-- EarningsPerShareBasic: double (nullable = false)\n",
      " |-- EarningsPerShareDiluted: double (nullable = false)\n",
      " |-- GainLossOnDispositionOfAssets: double (nullable = false)\n",
      " |-- GeneralAndAdministrativeExpense: double (nullable = false)\n",
      " |-- IncomeTaxesPaid: double (nullable = false)\n",
      " |-- IncreaseDecreaseInAccountsPayable: double (nullable = false)\n",
      " |-- IncreaseDecreaseInAccountsReceivable: double (nullable = false)\n",
      " |-- IncreaseDecreaseInAccruedLiabilities: double (nullable = false)\n",
      " |-- IncreaseDecreaseInInventories: double (nullable = false)\n",
      " |-- LaborAndRelatedExpense: double (nullable = false)\n",
      " |-- NetCashProvidedByUsedInFinancingActivities: double (nullable = false)\n",
      " |-- NetCashProvidedByUsedInFinancingActivitiesContinuingOperations: double (nullable = false)\n",
      " |-- NetCashProvidedByUsedInInvestingActivities: double (nullable = false)\n",
      " |-- NetCashProvidedByUsedInInvestingActivitiesContinuingOperations: double (nullable = false)\n",
      " |-- NetCashProvidedByUsedInOperatingActivities: double (nullable = false)\n",
      " |-- NetCashProvidedByUsedInOperatingActivitiesContinuingOperations: double (nullable = false)\n",
      " |-- NetIncomeLoss: double (nullable = false)\n",
      " |-- OperatingExpenses: double (nullable = false)\n",
      " |-- OperatingIncomeLoss: double (nullable = false)\n",
      " |-- PaymentsForRepurchaseOfCommonStock: double (nullable = false)\n",
      " |-- PaymentsOfDividends: double (nullable = false)\n",
      " |-- PaymentsOfDividendsCommonStock: double (nullable = false)\n",
      " |-- PaymentsOfFinancingCosts: double (nullable = false)\n",
      " |-- PaymentsToAcquireBusinessesNetOfCashAcquired: double (nullable = false)\n",
      " |-- PaymentsToAcquirePropertyPlantAndEquipment: double (nullable = false)\n",
      " |-- RepaymentsOfLongTermDebt: double (nullable = false)\n",
      " |-- ResearchAndDevelopmentExpense: double (nullable = false)\n",
      " |-- Revenues: double (nullable = false)\n",
      " |-- SellingAndMarketingExpense: double (nullable = false)\n",
      " |-- ShareBasedCompensation: double (nullable = false)\n",
      " |-- year: integer (nullable = true)\n",
      " |-- profit_year: integer (nullable = true)\n",
      " |-- profit: double (nullable = false)\n",
      " |-- label: integer (nullable = true)\n",
      "\n"
     ]
    }
   ],
   "source": [
    "import findspark\n",
    "findspark.init()\n",
    "from pyspark.sql import SparkSession\n",
    "spark = SparkSession.builder.appName('abc').config(\"spark.jars.packages\", \"com.microsoft.ml.spark:mmlspark_2.11:1.0.0-rc1\").config(\"spark.jars.repositories\", \"https://mmlspark.azureedge.net/maven\").getOrCreate()\n",
    "spark\n",
    "\n",
    "df = spark.read.parquet(\"s3://502-project-1/data\")\n",
    "\n",
    "df.printSchema()\n",
    "df = df.na.drop(subset=['profit'])\n",
    "\n",
    "from pyspark.sql.functions import isnan, count, when, col, isnull\n",
    "df.select([count(when(isnull(c), c)).alias(c) for c in df.columns]).show()\n",
    "df = df.na.fill(0)\n",
    "\n",
    "df.createOrReplaceTempView(\"dfTable\")\n",
    "df = spark.sql(\"select *, CASE \\\n",
    "                   when profit >= 0 then 1 \\\n",
    "                   when profit < 0 then 0 \\\n",
    "                   end as label from dfTable\")\n",
    "\n",
    "cols = ['cik', 'company_name', 'assigned_sic', 'accession_number_int', 'filing_date', \n",
    "        'CostOfGoodsAndServicesSold', 'CostOfGoodsSold', 'CostOfServices', 'EarningsPerShareBasic', \n",
    "        'EarningsPerShareDiluted', 'GainLossOnDispositionOfAssets', 'GeneralAndAdministrativeExpense', \n",
    "        'IncomeTaxesPaid', 'IncreaseDecreaseInAccountsPayable', 'IncreaseDecreaseInAccountsReceivable', \n",
    "        'IncreaseDecreaseInAccruedLiabilities', 'IncreaseDecreaseInInventories', 'LaborAndRelatedExpense', \n",
    "        'NetCashProvidedByUsedInFinancingActivities', \n",
    "        'NetCashProvidedByUsedInFinancingActivitiesContinuingOperations', \n",
    "        'NetCashProvidedByUsedInInvestingActivities', \n",
    "        'NetCashProvidedByUsedInInvestingActivitiesContinuingOperations', \n",
    "        'NetCashProvidedByUsedInOperatingActivities', \n",
    "        'NetCashProvidedByUsedInOperatingActivitiesContinuingOperations', 'NetIncomeLoss', 'OperatingExpenses', \n",
    "        'OperatingIncomeLoss', 'PaymentsForRepurchaseOfCommonStock', 'PaymentsOfDividends', \n",
    "        'PaymentsOfDividendsCommonStock', 'PaymentsOfFinancingCosts', \n",
    "        'PaymentsToAcquireBusinessesNetOfCashAcquired', 'PaymentsToAcquirePropertyPlantAndEquipment', \n",
    "        'RepaymentsOfLongTermDebt', 'ResearchAndDevelopmentExpense', 'Revenues', 'SellingAndMarketingExpense', \n",
    "        'ShareBasedCompensation', 'year', 'profit_year', 'profit', 'label']\n",
    "\n",
    "from pyspark.ml.feature import VectorAssembler\n",
    "\n",
    "numericCols = ['CostOfGoodsAndServicesSold', 'CostOfGoodsSold', 'CostOfServices', 'EarningsPerShareBasic', \n",
    "               'EarningsPerShareDiluted', 'GainLossOnDispositionOfAssets', 'GeneralAndAdministrativeExpense', \n",
    "               'IncomeTaxesPaid', 'IncreaseDecreaseInAccountsPayable', 'IncreaseDecreaseInAccountsReceivable', \n",
    "               'IncreaseDecreaseInAccruedLiabilities', 'IncreaseDecreaseInInventories', \n",
    "               'LaborAndRelatedExpense', 'NetCashProvidedByUsedInFinancingActivities', \n",
    "               'NetCashProvidedByUsedInFinancingActivitiesContinuingOperations', \n",
    "               'NetCashProvidedByUsedInInvestingActivities', 'NetCashProvidedByUsedInInvestingActivitiesContinuingOperations', \n",
    "               'NetCashProvidedByUsedInOperatingActivities', 'NetCashProvidedByUsedInOperatingActivitiesContinuingOperations', \n",
    "               'NetIncomeLoss', 'OperatingExpenses', 'OperatingIncomeLoss', 'PaymentsForRepurchaseOfCommonStock', \n",
    "               'PaymentsOfDividends', 'PaymentsOfDividendsCommonStock', 'PaymentsOfFinancingCosts', 'PaymentsToAcquireBusinessesNetOfCashAcquired', \n",
    "               'PaymentsToAcquirePropertyPlantAndEquipment', 'RepaymentsOfLongTermDebt', 'ResearchAndDevelopmentExpense', \n",
    "               'Revenues', 'SellingAndMarketingExpense', 'ShareBasedCompensation']\n",
    "\n",
    "assembler = VectorAssembler(inputCols=numericCols, outputCol=\"features\", handleInvalid=\"keep\")\n",
    "\n",
    "from pyspark.ml import Pipeline\n",
    "\n",
    "pipeline = Pipeline(stages=[assembler])\n",
    "\n",
    "pipelineModel = pipeline.fit(df)\n",
    "\n",
    "df = pipelineModel.transform(df)\n",
    "selectedCols = ['features'] + cols\n",
    "df = df.select(selectedCols)\n",
    "df.printSchema()"
   ]
  },
  {
   "cell_type": "code",
   "execution_count": 2,
   "metadata": {},
   "outputs": [],
   "source": [
    "import mmlspark\n",
    "\n",
    "from mmlspark.lightgbm import LightGBMRegressor\n",
    "\n",
    "train, test = df.randomSplit([0.85, 0.15], seed=1)\n",
    "\n",
    "lgb = LightGBMRegressor(alpha=0.3, learningRate=0.3, numIterations=100, numLeaves=31, featuresCol='features',labelCol='profit')\n",
    "\n",
    "lgbModel = lgb.fit(train)\n",
    "\n",
    "test_model = lgbModel.transform(test)"
   ]
  },
  {
   "cell_type": "code",
   "execution_count": 41,
   "metadata": {},
   "outputs": [],
   "source": [
    "test_true = test_model.select(['profit']).collect()\n",
    "test_predict = test_model.select(['prediction']).collect()\n",
    "test_company = test_model.select(['company_name']).collect()"
   ]
  },
  {
   "cell_type": "code",
   "execution_count": 43,
   "metadata": {},
   "outputs": [],
   "source": [
    "test_true_array = [int(row.profit) for row in test_true]\n",
    "test_predict_array = [int(row.prediction) for row in test_predict]\n",
    "test_company_array = [str(row.company_name) for row in test_company]"
   ]
  },
  {
   "cell_type": "code",
   "execution_count": 44,
   "metadata": {},
   "outputs": [
    {
     "data": {
      "text/plain": [
       "['ROSETTA STONE INC',\n",
       " 'WILLAMETTE VALLEY VINEYARDS INC',\n",
       " 'INGRAM MICRO INC',\n",
       " 'TRINITY INDUSTRIES INC',\n",
       " 'DANAHER CORP /DE/',\n",
       " 'FLOWSERVE CORP',\n",
       " 'CENTURYLINK, INC',\n",
       " 'BAXTER INTERNATIONAL INC',\n",
       " 'AMAG PHARMACEUTICALS, INC.',\n",
       " 'SYNERON MEDICAL LTD.',\n",
       " 'XERIUM TECHNOLOGIES INC',\n",
       " 'LIBBEY INC',\n",
       " 'GRAPHIC PACKAGING HOLDING CO',\n",
       " 'CEPHEID',\n",
       " 'WEYERHAEUSER CO',\n",
       " 'STANDARD MOTOR PRODUCTS, INC.',\n",
       " 'STANDARD MOTOR PRODUCTS, INC.',\n",
       " 'EMAGIN CORP',\n",
       " 'PCM, INC.',\n",
       " 'FORTUNE BRANDS HOME & SECURITY, INC.',\n",
       " 'ACCO BRANDS CORP',\n",
       " 'SIGMA ALDRICH CORP',\n",
       " 'AMGEN INC',\n",
       " 'LYONDELLBASELL INDUSTRIES N.V.',\n",
       " 'UNITED RENTALS, INC.',\n",
       " 'TELKONET INC',\n",
       " 'GORMAN RUPP CO',\n",
       " 'PULSE EVOLUTION GROUP, INC.',\n",
       " 'ENVIRO TECHNOLOGIES, INC.',\n",
       " 'MGP INGREDIENTS INC',\n",
       " 'GEVO, INC.',\n",
       " 'WESTERN UNION CO',\n",
       " 'NORWEGIAN CRUISE LINE HOLDINGS LTD.',\n",
       " 'AMEDISYS INC',\n",
       " 'LEJU HOLDINGS LTD',\n",
       " 'WEST CORP',\n",
       " 'PZENA INVESTMENT MANAGEMENT, INC.',\n",
       " 'NXP SEMICONDUCTORS N.V.',\n",
       " 'EQUINIX INC',\n",
       " 'UNITED INSURANCE HOLDINGS CORP.',\n",
       " 'DIAMONDROCK HOSPITALITY CO',\n",
       " 'ACTIVISION BLIZZARD, INC.',\n",
       " 'INTERNATIONAL STEM CELL CORP',\n",
       " 'EXCO RESOURCES INC',\n",
       " 'NORTH ATLANTIC DRILLING LTD.',\n",
       " 'EXPEDIA GROUP, INC.',\n",
       " 'SPOK HOLDINGS, INC',\n",
       " 'ADVISORY BOARD CO',\n",
       " 'EXPEDIA GROUP, INC.',\n",
       " 'ENCORE CAPITAL GROUP INC',\n",
       " 'EXELIXIS, INC.',\n",
       " 'LEAP THERAPEUTICS, INC.',\n",
       " 'ENSCO ROWAN PLC',\n",
       " 'ONEOK INC /NEW/',\n",
       " 'SOUTHERN CO GAS',\n",
       " 'AQUA AMERICA INC',\n",
       " 'SMG INDUSTRIES INC.',\n",
       " 'DOMINION ENERGY INC /VA/',\n",
       " 'ORION GROUP HOLDINGS INC',\n",
       " 'DTE ENERGY CO',\n",
       " 'PERFICIENT INC',\n",
       " 'ENTERGY CORP /DE/',\n",
       " 'WERNER ENTERPRISES INC',\n",
       " 'ROWAN COMPANIES PLC',\n",
       " 'ARTEMIS THERAPEUTICS, INC.',\n",
       " 'ASHFORD HOSPITALITY TRUST INC',\n",
       " 'EDISON MISSION ENERGY',\n",
       " 'DIAMOND OFFSHORE DRILLING, INC.',\n",
       " 'NAVIDEA BIOPHARMACEUTICALS, INC.',\n",
       " 'ACORN INTERNATIONAL, INC.',\n",
       " 'COHBAR, INC.',\n",
       " 'MMRGLOBAL, INC.',\n",
       " 'SYNERGY PHARMACEUTICALS, INC.',\n",
       " 'RIDGEWOOD ENERGY V FUND LLC',\n",
       " 'RIDGEWOOD ENERGY O FUND LLC',\n",
       " 'SOLENO THERAPEUTICS INC',\n",
       " 'MABVAX THERAPEUTICS HOLDINGS, INC.',\n",
       " 'ACADIA PHARMACEUTICALS INC',\n",
       " 'KRAIG BIOCRAFT LABORATORIES, INC',\n",
       " 'BIOTIME INC',\n",
       " 'LIGHTBRIDGE CORP',\n",
       " 'ACACIA RESEARCH CORP',\n",
       " 'FORTRESS BIOTECH, INC.',\n",
       " 'STRATUS PROPERTIES INC',\n",
       " 'HOMEFED CORP',\n",
       " 'JUDO CAPITAL CORP.',\n",
       " 'RA PHARMACEUTICALS, INC.',\n",
       " 'VALERO ENERGY PARTNERS LP',\n",
       " 'OLD DOMINION ELECTRIC COOPERATIVE',\n",
       " 'REAL ESTATE ASSOCIATES LTD VII',\n",
       " 'SALAMANDER INNISBROOK, LLC',\n",
       " 'ENVISION SOLAR INTERNATIONAL, INC.',\n",
       " 'NATIONAL RESEARCH CORP',\n",
       " 'SOCIAL REALITY, INC.',\n",
       " 'AEGERION PHARMACEUTICALS, INC.',\n",
       " 'TABLE TRAC INC',\n",
       " 'ALLIANT ENERGY CORP',\n",
       " 'U.S. NEUROSURGICAL HOLDINGS, INC.',\n",
       " 'PACIFICORP /OR/',\n",
       " 'SIEBERT FINANCIAL CORP']"
      ]
     },
     "execution_count": 44,
     "metadata": {},
     "output_type": "execute_result"
    }
   ],
   "source": [
    "test_company_array[:100]"
   ]
  },
  {
   "cell_type": "code",
   "execution_count": 37,
   "metadata": {},
   "outputs": [
    {
     "data": {
      "text/plain": [
       "[-78850000,\n",
       " 3636044,\n",
       " 462352000,\n",
       " 742200000,\n",
       " 3431300000,\n",
       " 277455000,\n",
       " 2331000000,\n",
       " 724000000,\n",
       " -293261000,\n",
       " -6119000,\n",
       " 46140000,\n",
       " 72499000,\n",
       " 342700000,\n",
       " 3815000,\n",
       " 870000000,\n",
       " 71431000,\n",
       " 81268000,\n",
       " -8733000,\n",
       " 11441000,\n",
       " 357100000,\n",
       " 163500000,\n",
       " 647000000,\n",
       " 10263000000,\n",
       " 5460000000,\n",
       " 591000000,\n",
       " 369675,\n",
       " 53305000,\n",
       " -1144000,\n",
       " -720392,\n",
       " 41975000,\n",
       " -23282000,\n",
       " 1330000000,\n",
       " 502941000,\n",
       " -112205000,\n",
       " 43612659,\n",
       " 480214000,\n",
       " 78755000,\n",
       " 2710000000,\n",
       " 460932000,\n",
       " 64333000,\n",
       " 139783000,\n",
       " 1319000000,\n",
       " -3474000,\n",
       " 126875000,\n",
       " 90800000,\n",
       " 479609000,\n",
       " 22153000,\n",
       " 76538000,\n",
       " 625138000,\n",
       " 324540000,\n",
       " -122436000,\n",
       " -30751000,\n",
       " 794300000,\n",
       " 1285676000,\n",
       " 746000000,\n",
       " 321100000,\n",
       " -387146,\n",
       " 3601000000,\n",
       " -100540000,\n",
       " 1646000000,\n",
       " 38963000,\n",
       " -886465000,\n",
       " 143820000,\n",
       " 149583000,\n",
       " -164000,\n",
       " 90414000,\n",
       " -579000000,\n",
       " 572562000,\n",
       " -38438314,\n",
       " -4182658,\n",
       " -6076577,\n",
       " -3419241,\n",
       " -38235000,\n",
       " 480000,\n",
       " 1262000,\n",
       " -12171315,\n",
       " -16663119,\n",
       " -93230000,\n",
       " -1160406,\n",
       " -65809000,\n",
       " -4853338,\n",
       " -37409000,\n",
       " -35780000,\n",
       " 14151000,\n",
       " 1439000,\n",
       " -12567,\n",
       " -55029000,\n",
       " 68680000,\n",
       " 63356000,\n",
       " -725000,\n",
       " -481253,\n",
       " -2788393,\n",
       " 34219000,\n",
       " -3738216,\n",
       " -62347000,\n",
       " 325075,\n",
       " 537000000,\n",
       " 614000,\n",
       " 1264000000,\n",
       " 2310000]"
      ]
     },
     "execution_count": 37,
     "metadata": {},
     "output_type": "execute_result"
    }
   ],
   "source": [
    "test_true_array[:100]"
   ]
  },
  {
   "cell_type": "code",
   "execution_count": 40,
   "metadata": {},
   "outputs": [
    {
     "data": {
      "text/plain": [
       "[-24869762,\n",
       " 23257,\n",
       " 135167727,\n",
       " 975576221,\n",
       " 2749263786,\n",
       " 1123230429,\n",
       " 5464198724,\n",
       " 324794239,\n",
       " 69338172,\n",
       " -16351012,\n",
       " 23966550,\n",
       " 61866084,\n",
       " 348295078,\n",
       " -7868147,\n",
       " 1266447674,\n",
       " 72464830,\n",
       " 76571559,\n",
       " -4741325,\n",
       " 38182200,\n",
       " 149905641,\n",
       " 157377729,\n",
       " 490059639,\n",
       " -10647926594,\n",
       " 4377598703,\n",
       " 336422699,\n",
       " 23257,\n",
       " 27093372,\n",
       " 23257,\n",
       " 23257,\n",
       " 27093372,\n",
       " -21742941,\n",
       " 1380363554,\n",
       " 13495664,\n",
       " -119506899,\n",
       " 61866084,\n",
       " 468467752,\n",
       " 71297929,\n",
       " 1463274429,\n",
       " 316217033,\n",
       " 27093372,\n",
       " 184853508,\n",
       " 1440052445,\n",
       " -4741325,\n",
       " 147780951,\n",
       " 66211350,\n",
       " 819358344,\n",
       " 27583290,\n",
       " 2423202,\n",
       " 633036659,\n",
       " 183703668,\n",
       " 58739262,\n",
       " -21742941,\n",
       " 200386391,\n",
       " 1921819973,\n",
       " 1116007809,\n",
       " 302171762,\n",
       " 23257,\n",
       " 5688949667,\n",
       " 23257,\n",
       " 616952167,\n",
       " 36525217,\n",
       " 2703855810,\n",
       " 126971276,\n",
       " 333314887,\n",
       " 23257,\n",
       " 104219529,\n",
       " -462366670,\n",
       " 685383345,\n",
       " -21742941,\n",
       " -16351012,\n",
       " -4741325,\n",
       " -4741325,\n",
       " -21742941,\n",
       " 23257,\n",
       " 23257,\n",
       " -4741325,\n",
       " -21742941,\n",
       " -33270483,\n",
       " 23257,\n",
       " -36397304,\n",
       " -4741325,\n",
       " -64239894,\n",
       " -21742941,\n",
       " 23257,\n",
       " 23257,\n",
       " 23257,\n",
       " -34423043,\n",
       " 49185981,\n",
       " 23966550,\n",
       " 23257,\n",
       " -3103563,\n",
       " 23257,\n",
       " 38182107,\n",
       " 23257,\n",
       " -52630208,\n",
       " 23257,\n",
       " 523377991,\n",
       " 23257,\n",
       " 1113051246,\n",
       " -4741325]"
      ]
     },
     "execution_count": 40,
     "metadata": {},
     "output_type": "execute_result"
    }
   ],
   "source": [
    "test_predict_array[:100]"
   ]
  },
  {
   "cell_type": "code",
   "execution_count": 3,
   "metadata": {},
   "outputs": [
    {
     "name": "stdout",
     "output_type": "stream",
     "text": [
      "[5.0, 28.0, 5.0, 246.0, 153.0, 4.0, 35.0, 104.0, 65.0, 73.0, 8.0, 128.0, 6.0, 143.0, 25.0, 219.0, 62.0, 208.0, 70.0, 177.0, 100.0, 184.0, 132.0, 35.0, 110.0, 4.0, 91.0, 150.0, 71.0, 17.0, 212.0, 4.0, 126.0]\n"
     ]
    },
    {
     "data": {
      "text/html": [
       "<div>\n",
       "<style scoped>\n",
       "    .dataframe tbody tr th:only-of-type {\n",
       "        vertical-align: middle;\n",
       "    }\n",
       "\n",
       "    .dataframe tbody tr th {\n",
       "        vertical-align: top;\n",
       "    }\n",
       "\n",
       "    .dataframe thead th {\n",
       "        text-align: right;\n",
       "    }\n",
       "</style>\n",
       "<table border=\"1\" class=\"dataframe\">\n",
       "  <thead>\n",
       "    <tr style=\"text-align: right;\">\n",
       "      <th></th>\n",
       "      <th>mean_squared_error</th>\n",
       "      <th>root_mean_squared_error</th>\n",
       "      <th>R^2</th>\n",
       "      <th>mean_absolute_error</th>\n",
       "    </tr>\n",
       "  </thead>\n",
       "  <tbody>\n",
       "    <tr>\n",
       "      <th>0</th>\n",
       "      <td>6.698896e+18</td>\n",
       "      <td>2.588223e+09</td>\n",
       "      <td>0.887675</td>\n",
       "      <td>3.392675e+08</td>\n",
       "    </tr>\n",
       "  </tbody>\n",
       "</table>\n",
       "</div>"
      ],
      "text/plain": [
       "   mean_squared_error  root_mean_squared_error       R^2  mean_absolute_error\n",
       "0        6.698896e+18             2.588223e+09  0.887675         3.392675e+08"
      ]
     },
     "execution_count": 3,
     "metadata": {},
     "output_type": "execute_result"
    }
   ],
   "source": [
    "print(lgbModel.getFeatureImportances())\n",
    "\n",
    "from mmlspark.train import ComputeModelStatistics\n",
    "metrics = ComputeModelStatistics(evaluationMetric='regression',\n",
    "                                 labelCol='profit',\n",
    "                                 scoresCol='prediction') \\\n",
    "            .transform(test_model)\n",
    "metrics.toPandas()"
   ]
  },
  {
   "cell_type": "code",
   "execution_count": 13,
   "metadata": {},
   "outputs": [],
   "source": [
    "feature_importance = [5.0, 28.0, 5.0, 246.0, 153.0, 4.0, 35.0, 104.0, 65.0, 73.0, 8.0, 128.0, 6.0, 143.0, 25.0, 219.0, 62.0, 208.0, 70.0, 177.0, 100.0, 184.0, 132.0, 35.0, 110.0, 4.0, 91.0, 150.0, 71.0, 17.0, 212.0, 4.0, 126.0]"
   ]
  },
  {
   "cell_type": "code",
   "execution_count": 14,
   "metadata": {},
   "outputs": [],
   "source": [
    "sorted_feature = [x for _,x in sorted(zip(feature_importance, numericCols), reverse=True)]"
   ]
  },
  {
   "cell_type": "code",
   "execution_count": 17,
   "metadata": {},
   "outputs": [],
   "source": [
    "selected_features = sorted_feature[:15]"
   ]
  },
  {
   "cell_type": "code",
   "execution_count": 18,
   "metadata": {},
   "outputs": [
    {
     "data": {
      "text/plain": [
       "['EarningsPerShareBasic',\n",
       " 'NetCashProvidedByUsedInInvestingActivities',\n",
       " 'Revenues',\n",
       " 'NetCashProvidedByUsedInOperatingActivities',\n",
       " 'OperatingIncomeLoss',\n",
       " 'NetIncomeLoss',\n",
       " 'EarningsPerShareDiluted',\n",
       " 'PaymentsToAcquirePropertyPlantAndEquipment',\n",
       " 'NetCashProvidedByUsedInFinancingActivities',\n",
       " 'PaymentsForRepurchaseOfCommonStock',\n",
       " 'IncreaseDecreaseInInventories',\n",
       " 'ShareBasedCompensation',\n",
       " 'PaymentsOfDividendsCommonStock',\n",
       " 'IncomeTaxesPaid',\n",
       " 'OperatingExpenses']"
      ]
     },
     "execution_count": 18,
     "metadata": {},
     "output_type": "execute_result"
    }
   ],
   "source": [
    "selected_features"
   ]
  },
  {
   "cell_type": "code",
   "execution_count": 16,
   "metadata": {},
   "outputs": [
    {
     "data": {
      "text/plain": [
       "[246.0,\n",
       " 219.0,\n",
       " 212.0,\n",
       " 208.0,\n",
       " 184.0,\n",
       " 177.0,\n",
       " 153.0,\n",
       " 150.0,\n",
       " 143.0,\n",
       " 132.0,\n",
       " 128.0,\n",
       " 126.0,\n",
       " 110.0,\n",
       " 104.0,\n",
       " 100.0,\n",
       " 91.0,\n",
       " 73.0,\n",
       " 71.0,\n",
       " 70.0,\n",
       " 65.0,\n",
       " 62.0,\n",
       " 35.0,\n",
       " 35.0,\n",
       " 28.0,\n",
       " 25.0,\n",
       " 17.0,\n",
       " 8.0,\n",
       " 6.0,\n",
       " 5.0,\n",
       " 5.0,\n",
       " 4.0,\n",
       " 4.0,\n",
       " 4.0]"
      ]
     },
     "execution_count": 16,
     "metadata": {},
     "output_type": "execute_result"
    }
   ],
   "source": [
    "sorted(feature_importance,reverse=True)"
   ]
  },
  {
   "cell_type": "code",
   "execution_count": 4,
   "metadata": {},
   "outputs": [],
   "source": [
    "from pyspark.ml.evaluation import BinaryClassificationEvaluator as bce"
   ]
  },
  {
   "cell_type": "code",
   "execution_count": 5,
   "metadata": {},
   "outputs": [
    {
     "name": "stdout",
     "output_type": "stream",
     "text": [
      "0.852963495439871\n",
      "0.890500542759393\n"
     ]
    }
   ],
   "source": [
    "evaluator = bce(rawPredictionCol='prediction', labelCol='profit')\n",
    "print(evaluator.evaluate(test_model, {evaluator.metricName: 'areaUnderROC'}))\n",
    "print(evaluator.evaluate(test_model, {evaluator.metricName: 'areaUnderPR'}))"
   ]
  },
  {
   "cell_type": "code",
   "execution_count": 6,
   "metadata": {},
   "outputs": [],
   "source": [
    "from mmlspark.lightgbm import LightGBMClassifier\n",
    "lgbClassifier = LightGBMClassifier(learningRate=0.3,\n",
    "                           numIterations=100,\n",
    "                           numLeaves=31,\n",
    "                           featuresCol = 'features',\n",
    "                            labelCol = 'label')"
   ]
  },
  {
   "cell_type": "code",
   "execution_count": 7,
   "metadata": {},
   "outputs": [],
   "source": [
    "lgbClassifierModel = lgbClassifier.fit(train)"
   ]
  },
  {
   "cell_type": "code",
   "execution_count": 8,
   "metadata": {},
   "outputs": [],
   "source": [
    "test_class = lgbClassifierModel.transform(test)"
   ]
  },
  {
   "cell_type": "code",
   "execution_count": 9,
   "metadata": {},
   "outputs": [
    {
     "name": "stdout",
     "output_type": "stream",
     "text": [
      "0.9409936280553806\n",
      "0.9405454155891646\n"
     ]
    }
   ],
   "source": [
    "evaluator = bce(rawPredictionCol='probability', labelCol='profit')\n",
    "print(evaluator.evaluate(test_class, {evaluator.metricName: 'areaUnderROC'}))\n",
    "print(evaluator.evaluate(test_class, {evaluator.metricName: 'areaUnderPR'}))"
   ]
  },
  {
   "cell_type": "code",
   "execution_count": 11,
   "metadata": {},
   "outputs": [
    {
     "name": "stdout",
     "output_type": "stream",
     "text": [
      "Test Area Under ROC 0.9409936280553806\n"
     ]
    }
   ],
   "source": [
    "from pyspark.ml.evaluation import BinaryClassificationEvaluator\n",
    "eval = BinaryClassificationEvaluator()\n",
    "print('Test Area Under ROC', eval.evaluate(test_class))"
   ]
  },
  {
   "cell_type": "code",
   "execution_count": 12,
   "metadata": {},
   "outputs": [
    {
     "name": "stdout",
     "output_type": "stream",
     "text": [
      "              precision    recall  f1-score   support\n",
      "\n",
      "           0       0.87      0.87      0.87      1174\n",
      "           1       0.89      0.89      0.89      1448\n",
      "\n",
      "    accuracy                           0.88      2622\n",
      "   macro avg       0.88      0.88      0.88      2622\n",
      "weighted avg       0.88      0.88      0.88      2622\n",
      "\n"
     ]
    },
    {
     "data": {
      "text/plain": [
       "array([[1021,  153],\n",
       "       [ 156, 1292]])"
      ]
     },
     "execution_count": 12,
     "metadata": {},
     "output_type": "execute_result"
    }
   ],
   "source": [
    "y_true = test_class.select(['label']).collect()\n",
    "y_pred = test_class.select(['prediction']).collect()\n",
    "from sklearn.metrics import classification_report, confusion_matrix\n",
    "print(classification_report(y_true, y_pred))\n",
    "confusion_matrix(y_true, y_pred, labels=[0, 1])"
   ]
  },
  {
   "cell_type": "code",
   "execution_count": null,
   "metadata": {},
   "outputs": [],
   "source": []
  }
 ],
 "metadata": {
  "kernelspec": {
   "display_name": "Python 3",
   "language": "python",
   "name": "python3"
  },
  "language_info": {
   "codemirror_mode": {
    "name": "ipython",
    "version": 3
   },
   "file_extension": ".py",
   "mimetype": "text/x-python",
   "name": "python",
   "nbconvert_exporter": "python",
   "pygments_lexer": "ipython3",
   "version": "3.7.6"
  }
 },
 "nbformat": 4,
 "nbformat_minor": 4
}
