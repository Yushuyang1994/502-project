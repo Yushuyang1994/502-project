{
 "cells": [
  {
   "cell_type": "code",
   "execution_count": null,
   "metadata": {},
   "outputs": [],
   "source": [
    "import findspark\n",
    "findspark.init()\n",
    "from pyspark.sql import SparkSession\n",
    "spark = SparkSession.builder.appName('abc').config(\"spark.jars.packages\", \"com.microsoft.ml.spark:mmlspark_2.11:1.0.0-rc1\").config(\"spark.jars.repositories\", \"https://mmlspark.azureedge.net/maven\").getOrCreate()\n",
    "spark\n",
    "\n",
    "df = spark.read.parquet(\"s3://502-project-1/data\")\n",
    "\n",
    "df.printSchema()\n",
    "df = df.na.drop(subset=['profit'])\n",
    "\n",
    "from pyspark.sql.functions import isnan, count, when, col, isnull\n",
    "df.select([count(when(isnull(c), c)).alias(c) for c in df.columns]).show()\n",
    "df = df.na.fill(0)\n",
    "\n",
    "df.createOrReplaceTempView(\"dfTable\")\n",
    "df = spark.sql(\"select *, CASE \\\n",
    "                   when profit >= 0 then 1 \\\n",
    "                   when profit < 0 then 0 \\\n",
    "                   end as label from dfTable\")\n",
    "\n",
    "cols = ['cik', 'company_name', 'assigned_sic', 'accession_number_int', 'filing_date', \n",
    "        'CostOfGoodsAndServicesSold', 'CostOfGoodsSold', 'CostOfServices', 'EarningsPerShareBasic', \n",
    "        'EarningsPerShareDiluted', 'GainLossOnDispositionOfAssets', 'GeneralAndAdministrativeExpense', \n",
    "        'IncomeTaxesPaid', 'IncreaseDecreaseInAccountsPayable', 'IncreaseDecreaseInAccountsReceivable', \n",
    "        'IncreaseDecreaseInAccruedLiabilities', 'IncreaseDecreaseInInventories', 'LaborAndRelatedExpense', \n",
    "        'NetCashProvidedByUsedInFinancingActivities', \n",
    "        'NetCashProvidedByUsedInFinancingActivitiesContinuingOperations', \n",
    "        'NetCashProvidedByUsedInInvestingActivities', \n",
    "        'NetCashProvidedByUsedInInvestingActivitiesContinuingOperations', \n",
    "        'NetCashProvidedByUsedInOperatingActivities', \n",
    "        'NetCashProvidedByUsedInOperatingActivitiesContinuingOperations', 'NetIncomeLoss', 'OperatingExpenses', \n",
    "        'OperatingIncomeLoss', 'PaymentsForRepurchaseOfCommonStock', 'PaymentsOfDividends', \n",
    "        'PaymentsOfDividendsCommonStock', 'PaymentsOfFinancingCosts', \n",
    "        'PaymentsToAcquireBusinessesNetOfCashAcquired', 'PaymentsToAcquirePropertyPlantAndEquipment', \n",
    "        'RepaymentsOfLongTermDebt', 'ResearchAndDevelopmentExpense', 'Revenues', 'SellingAndMarketingExpense', \n",
    "        'ShareBasedCompensation', 'year', 'profit_year', 'profit', 'label']\n",
    "\n",
    "from pyspark.ml.feature import VectorAssembler\n",
    "\n",
    "numericCols = ['CostOfGoodsAndServicesSold', 'CostOfGoodsSold', 'CostOfServices', 'EarningsPerShareBasic', \n",
    "               'EarningsPerShareDiluted', 'GainLossOnDispositionOfAssets', 'GeneralAndAdministrativeExpense', \n",
    "               'IncomeTaxesPaid', 'IncreaseDecreaseInAccountsPayable', 'IncreaseDecreaseInAccountsReceivable', \n",
    "               'IncreaseDecreaseInAccruedLiabilities', 'IncreaseDecreaseInInventories', \n",
    "               'LaborAndRelatedExpense', 'NetCashProvidedByUsedInFinancingActivities', \n",
    "               'NetCashProvidedByUsedInFinancingActivitiesContinuingOperations', \n",
    "               'NetCashProvidedByUsedInInvestingActivities', 'NetCashProvidedByUsedInInvestingActivitiesContinuingOperations', \n",
    "               'NetCashProvidedByUsedInOperatingActivities', 'NetCashProvidedByUsedInOperatingActivitiesContinuingOperations', \n",
    "               'NetIncomeLoss', 'OperatingExpenses', 'OperatingIncomeLoss', 'PaymentsForRepurchaseOfCommonStock', \n",
    "               'PaymentsOfDividends', 'PaymentsOfDividendsCommonStock', 'PaymentsOfFinancingCosts', 'PaymentsToAcquireBusinessesNetOfCashAcquired', \n",
    "               'PaymentsToAcquirePropertyPlantAndEquipment', 'RepaymentsOfLongTermDebt', 'ResearchAndDevelopmentExpense', \n",
    "               'Revenues', 'SellingAndMarketingExpense', 'ShareBasedCompensation']\n",
    "\n",
    "assembler = VectorAssembler(inputCols=numericCols, outputCol=\"features\", handleInvalid=\"keep\")\n",
    "\n",
    "from pyspark.ml import Pipeline\n",
    "\n",
    "pipeline = Pipeline(stages=[assembler])\n",
    "\n",
    "pipelineModel = pipeline.fit(df)\n",
    "\n",
    "df = pipelineModel.transform(df)\n",
    "selectedCols = ['features'] + cols\n",
    "df = df.select(selectedCols)\n",
    "df.printSchema()"
   ]
  },
  {
   "cell_type": "code",
   "execution_count": null,
   "metadata": {},
   "outputs": [],
   "source": [
    "import mmlspark\n",
    "\n",
    "from mmlspark.lightgbm import LightGBMRegressor\n",
    "\n",
    "train, test = df.randomSplit([0.85, 0.15], seed=1)\n",
    "\n",
    "lgb = LightGBMRegressor(alpha=0.3, learningRate=0.3, numIterations=100, numLeaves=31, featuresCol='features',labelCol='profit')\n",
    "\n",
    "lgbModel = lgb.fit(train)\n",
    "\n",
    "test_model = lgbModel.transform(test)"
   ]
  },
  {
   "cell_type": "code",
   "execution_count": null,
   "metadata": {},
   "outputs": [],
   "source": [
    "print(lgbModel.getFeatureImportances())\n",
    "\n",
    "from mmlspark.train import ComputeModelStatistics\n",
    "metrics = ComputeModelStatistics(evaluationMetric='regression',\n",
    "                                 labelCol='profit',\n",
    "                                 scoresCol='prediction') \\\n",
    "            .transform(test_model)\n",
    "metrics.toPandas()"
   ]
  },
  {
   "cell_type": "code",
   "execution_count": null,
   "metadata": {},
   "outputs": [],
   "source": [
    "from pyspark.ml.evaluation import BinaryClassificationEvaluator as bce"
   ]
  },
  {
   "cell_type": "code",
   "execution_count": null,
   "metadata": {},
   "outputs": [],
   "source": [
    "evaluator = bce(rawPredictionCol='prediction', labelCol='profit')\n",
    "print(evaluator.evaluate(test_model, {evaluator.metricName: 'areaUnderROC'}))\n",
    "print(evaluator.evaluate(test_model, {evaluator.metricName: 'areaUnderPR'}))"
   ]
  },
  {
   "cell_type": "code",
   "execution_count": null,
   "metadata": {},
   "outputs": [],
   "source": [
    "from mmlspark.lightgbm import LightGBMClassifier\n",
    "lgbClassifier = LightGBMClassifier(learningRate=0.3,\n",
    "                           numIterations=100,\n",
    "                           numLeaves=31,\n",
    "                           featuresCol = 'features',\n",
    "                            labelCol = 'label')"
   ]
  },
  {
   "cell_type": "code",
   "execution_count": null,
   "metadata": {},
   "outputs": [],
   "source": [
    "lgbClassifierModel = lgbClassifier.fit(train)"
   ]
  },
  {
   "cell_type": "code",
   "execution_count": null,
   "metadata": {},
   "outputs": [],
   "source": [
    "test_class = lgbClassifierModel.transform(test)"
   ]
  },
  {
   "cell_type": "code",
   "execution_count": null,
   "metadata": {},
   "outputs": [],
   "source": [
    "evaluator = bce(rawPredictionCol='probability', labelCol='profit')\n",
    "print(evaluator.evaluate(test_class, {evaluator.metricName: 'areaUnderROC'}))\n",
    "print(evaluator.evaluate(test_class, {evaluator.metricName: 'areaUnderPR'}))"
   ]
  },
  {
   "cell_type": "code",
   "execution_count": null,
   "metadata": {},
   "outputs": [],
   "source": [
    "evaluator = bce(rawPredictionCol='prediction', labelCol='profit')\n",
    "print(evaluator.evaluate(test_class, {evaluator.metricName: 'areaUnderROC'}))\n",
    "print(evaluator.evaluate(test_class, {evaluator.metricName: 'areaUnderPR'}))"
   ]
  },
  {
   "cell_type": "code",
   "execution_count": null,
   "metadata": {},
   "outputs": [],
   "source": [
    "from pyspark.ml.evaluation import BinaryClassificationEvaluator\n",
    "eval = BinaryClassificationEvaluator()\n",
    "print('Test Area Under ROC', eval.evaluate(test_class))"
   ]
  },
  {
   "cell_type": "code",
   "execution_count": null,
   "metadata": {},
   "outputs": [],
   "source": [
    "y_true = test_class.select(['label']).collect()\n",
    "y_pred = test_class.select(['prediction']).collect()\n",
    "from sklearn.metrics import classification_report, confusion_matrix\n",
    "print(classification_report(y_true, y_pred))\n",
    "confusion_matrix(y_true, y_pred, labels=[0, 1])"
   ]
  },
  {
   "cell_type": "code",
   "execution_count": null,
   "metadata": {},
   "outputs": [],
   "source": []
  }
 ],
 "metadata": {
  "kernelspec": {
   "display_name": "Python 3",
   "language": "python",
   "name": "python3"
  },
  "language_info": {
   "codemirror_mode": {
    "name": "ipython",
    "version": 3
   },
   "file_extension": ".py",
   "mimetype": "text/x-python",
   "name": "python",
   "nbconvert_exporter": "python",
   "pygments_lexer": "ipython3",
   "version": "3.7.6"
  }
 },
 "nbformat": 4,
 "nbformat_minor": 4
}
