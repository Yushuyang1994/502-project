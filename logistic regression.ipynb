{
 "cells": [
  {
   "cell_type": "code",
   "execution_count": 2,
   "metadata": {},
   "outputs": [
    {
     "name": "stdout",
     "output_type": "stream",
     "text": [
      "root\n",
      " |-- cik: integer (nullable = true)\n",
      " |-- company_name: string (nullable = true)\n",
      " |-- assigned_sic: integer (nullable = true)\n",
      " |-- accession_number_int: long (nullable = true)\n",
      " |-- filing_date: date (nullable = true)\n",
      " |-- CostOfGoodsAndServicesSold: double (nullable = true)\n",
      " |-- CostOfGoodsSold: double (nullable = true)\n",
      " |-- CostOfServices: double (nullable = true)\n",
      " |-- EarningsPerShareBasic: double (nullable = true)\n",
      " |-- EarningsPerShareDiluted: double (nullable = true)\n",
      " |-- GainLossOnDispositionOfAssets: double (nullable = true)\n",
      " |-- GeneralAndAdministrativeExpense: double (nullable = true)\n",
      " |-- IncomeTaxesPaid: double (nullable = true)\n",
      " |-- IncreaseDecreaseInAccountsPayable: double (nullable = true)\n",
      " |-- IncreaseDecreaseInAccountsReceivable: double (nullable = true)\n",
      " |-- IncreaseDecreaseInAccruedLiabilities: double (nullable = true)\n",
      " |-- IncreaseDecreaseInInventories: double (nullable = true)\n",
      " |-- LaborAndRelatedExpense: double (nullable = true)\n",
      " |-- NetCashProvidedByUsedInFinancingActivities: double (nullable = true)\n",
      " |-- NetCashProvidedByUsedInFinancingActivitiesContinuingOperations: double (nullable = true)\n",
      " |-- NetCashProvidedByUsedInInvestingActivities: double (nullable = true)\n",
      " |-- NetCashProvidedByUsedInInvestingActivitiesContinuingOperations: double (nullable = true)\n",
      " |-- NetCashProvidedByUsedInOperatingActivities: double (nullable = true)\n",
      " |-- NetCashProvidedByUsedInOperatingActivitiesContinuingOperations: double (nullable = true)\n",
      " |-- NetIncomeLoss: double (nullable = true)\n",
      " |-- OperatingExpenses: double (nullable = true)\n",
      " |-- OperatingIncomeLoss: double (nullable = true)\n",
      " |-- PaymentsForRepurchaseOfCommonStock: double (nullable = true)\n",
      " |-- PaymentsOfDividends: double (nullable = true)\n",
      " |-- PaymentsOfDividendsCommonStock: double (nullable = true)\n",
      " |-- PaymentsOfFinancingCosts: double (nullable = true)\n",
      " |-- PaymentsToAcquireBusinessesNetOfCashAcquired: double (nullable = true)\n",
      " |-- PaymentsToAcquirePropertyPlantAndEquipment: double (nullable = true)\n",
      " |-- RepaymentsOfLongTermDebt: double (nullable = true)\n",
      " |-- ResearchAndDevelopmentExpense: double (nullable = true)\n",
      " |-- Revenues: double (nullable = true)\n",
      " |-- SellingAndMarketingExpense: double (nullable = true)\n",
      " |-- ShareBasedCompensation: double (nullable = true)\n",
      " |-- year: integer (nullable = true)\n",
      " |-- profit_year: integer (nullable = true)\n",
      " |-- profit: double (nullable = true)\n",
      "\n",
      "root\n",
      " |-- features: vector (nullable = true)\n",
      " |-- cik: integer (nullable = true)\n",
      " |-- company_name: string (nullable = true)\n",
      " |-- assigned_sic: integer (nullable = true)\n",
      " |-- accession_number_int: long (nullable = true)\n",
      " |-- filing_date: date (nullable = true)\n",
      " |-- CostOfGoodsAndServicesSold: double (nullable = false)\n",
      " |-- CostOfGoodsSold: double (nullable = false)\n",
      " |-- CostOfServices: double (nullable = false)\n",
      " |-- EarningsPerShareBasic: double (nullable = false)\n",
      " |-- EarningsPerShareDiluted: double (nullable = false)\n",
      " |-- GainLossOnDispositionOfAssets: double (nullable = false)\n",
      " |-- GeneralAndAdministrativeExpense: double (nullable = false)\n",
      " |-- IncomeTaxesPaid: double (nullable = false)\n",
      " |-- IncreaseDecreaseInAccountsPayable: double (nullable = false)\n",
      " |-- IncreaseDecreaseInAccountsReceivable: double (nullable = false)\n",
      " |-- IncreaseDecreaseInAccruedLiabilities: double (nullable = false)\n",
      " |-- IncreaseDecreaseInInventories: double (nullable = false)\n",
      " |-- LaborAndRelatedExpense: double (nullable = false)\n",
      " |-- NetCashProvidedByUsedInFinancingActivities: double (nullable = false)\n",
      " |-- NetCashProvidedByUsedInFinancingActivitiesContinuingOperations: double (nullable = false)\n",
      " |-- NetCashProvidedByUsedInInvestingActivities: double (nullable = false)\n",
      " |-- NetCashProvidedByUsedInInvestingActivitiesContinuingOperations: double (nullable = false)\n",
      " |-- NetCashProvidedByUsedInOperatingActivities: double (nullable = false)\n",
      " |-- NetCashProvidedByUsedInOperatingActivitiesContinuingOperations: double (nullable = false)\n",
      " |-- NetIncomeLoss: double (nullable = false)\n",
      " |-- OperatingExpenses: double (nullable = false)\n",
      " |-- OperatingIncomeLoss: double (nullable = false)\n",
      " |-- PaymentsForRepurchaseOfCommonStock: double (nullable = false)\n",
      " |-- PaymentsOfDividends: double (nullable = false)\n",
      " |-- PaymentsOfDividendsCommonStock: double (nullable = false)\n",
      " |-- PaymentsOfFinancingCosts: double (nullable = false)\n",
      " |-- PaymentsToAcquireBusinessesNetOfCashAcquired: double (nullable = false)\n",
      " |-- PaymentsToAcquirePropertyPlantAndEquipment: double (nullable = false)\n",
      " |-- RepaymentsOfLongTermDebt: double (nullable = false)\n",
      " |-- ResearchAndDevelopmentExpense: double (nullable = false)\n",
      " |-- Revenues: double (nullable = false)\n",
      " |-- SellingAndMarketingExpense: double (nullable = false)\n",
      " |-- ShareBasedCompensation: double (nullable = false)\n",
      " |-- year: integer (nullable = true)\n",
      " |-- profit_year: integer (nullable = true)\n",
      " |-- profit: double (nullable = false)\n",
      " |-- label: integer (nullable = true)\n",
      "\n"
     ]
    }
   ],
   "source": [
    "import findspark\n",
    "findspark.init()\n",
    "from pyspark.sql import SparkSession\n",
    "spark = SparkSession.builder.appName('abc').getOrCreate()\n",
    "spark\n",
    "\n",
    "df = spark.read.parquet(\"s3://502-project-1/data\")\n",
    "\n",
    "df.printSchema()\n",
    "df = df.na.drop(subset=['profit'])\n",
    "# df.select([count(when(isnull(c), c)).alias(c) for c in df.columns]).show()\n",
    "df = df.na.fill(0)\n",
    "\n",
    "df.createOrReplaceTempView(\"dfTable\")\n",
    "df = spark.sql(\"select *, CASE \\\n",
    "                   when profit >= 0 then 1 \\\n",
    "                   when profit < 0 then 0 \\\n",
    "                   end as label from dfTable\")\n",
    "\n",
    "cols = ['cik', 'company_name', 'assigned_sic', 'accession_number_int', 'filing_date', \n",
    "        'CostOfGoodsAndServicesSold', 'CostOfGoodsSold', 'CostOfServices', 'EarningsPerShareBasic', \n",
    "        'EarningsPerShareDiluted', 'GainLossOnDispositionOfAssets', 'GeneralAndAdministrativeExpense', \n",
    "        'IncomeTaxesPaid', 'IncreaseDecreaseInAccountsPayable', 'IncreaseDecreaseInAccountsReceivable', \n",
    "        'IncreaseDecreaseInAccruedLiabilities', 'IncreaseDecreaseInInventories', 'LaborAndRelatedExpense', \n",
    "        'NetCashProvidedByUsedInFinancingActivities', \n",
    "        'NetCashProvidedByUsedInFinancingActivitiesContinuingOperations', \n",
    "        'NetCashProvidedByUsedInInvestingActivities', \n",
    "        'NetCashProvidedByUsedInInvestingActivitiesContinuingOperations', \n",
    "        'NetCashProvidedByUsedInOperatingActivities', \n",
    "        'NetCashProvidedByUsedInOperatingActivitiesContinuingOperations', 'NetIncomeLoss', 'OperatingExpenses', \n",
    "        'OperatingIncomeLoss', 'PaymentsForRepurchaseOfCommonStock', 'PaymentsOfDividends', \n",
    "        'PaymentsOfDividendsCommonStock', 'PaymentsOfFinancingCosts', \n",
    "        'PaymentsToAcquireBusinessesNetOfCashAcquired', 'PaymentsToAcquirePropertyPlantAndEquipment', \n",
    "        'RepaymentsOfLongTermDebt', 'ResearchAndDevelopmentExpense', 'Revenues', 'SellingAndMarketingExpense', \n",
    "        'ShareBasedCompensation', 'year', 'profit_year', 'profit', 'label']\n",
    "\n",
    "from pyspark.ml.feature import VectorAssembler\n",
    "\n",
    "numericCols = ['CostOfGoodsAndServicesSold', 'CostOfGoodsSold', 'CostOfServices', 'EarningsPerShareBasic', \n",
    "               'EarningsPerShareDiluted', 'GainLossOnDispositionOfAssets', 'GeneralAndAdministrativeExpense', \n",
    "               'IncomeTaxesPaid', 'IncreaseDecreaseInAccountsPayable', 'IncreaseDecreaseInAccountsReceivable', \n",
    "               'IncreaseDecreaseInAccruedLiabilities', 'IncreaseDecreaseInInventories', \n",
    "               'LaborAndRelatedExpense', 'NetCashProvidedByUsedInFinancingActivities', \n",
    "               'NetCashProvidedByUsedInFinancingActivitiesContinuingOperations', \n",
    "               'NetCashProvidedByUsedInInvestingActivities', 'NetCashProvidedByUsedInInvestingActivitiesContinuingOperations', \n",
    "               'NetCashProvidedByUsedInOperatingActivities', 'NetCashProvidedByUsedInOperatingActivitiesContinuingOperations', \n",
    "               'NetIncomeLoss', 'OperatingExpenses', 'OperatingIncomeLoss', 'PaymentsForRepurchaseOfCommonStock', \n",
    "               'PaymentsOfDividends', 'PaymentsOfDividendsCommonStock', 'PaymentsOfFinancingCosts', 'PaymentsToAcquireBusinessesNetOfCashAcquired', \n",
    "               'PaymentsToAcquirePropertyPlantAndEquipment', 'RepaymentsOfLongTermDebt', 'ResearchAndDevelopmentExpense', \n",
    "               'Revenues', 'SellingAndMarketingExpense', 'ShareBasedCompensation']\n",
    "\n",
    "assembler = VectorAssembler(inputCols=numericCols, outputCol=\"features\", handleInvalid=\"keep\")\n",
    "\n",
    "from pyspark.ml import Pipeline\n",
    "\n",
    "pipeline = Pipeline(stages=[assembler])\n",
    "\n",
    "from pyspark.sql.functions import isnan, count, when, col, isnull\n",
    "\n",
    "pipelineModel = pipeline.fit(df)\n",
    "\n",
    "df = pipelineModel.transform(df)\n",
    "selectedCols = ['features'] + cols\n",
    "df = df.select(selectedCols)\n",
    "df.printSchema()"
   ]
  },
  {
   "cell_type": "code",
   "execution_count": 3,
   "metadata": {},
   "outputs": [
    {
     "data": {
      "text/plain": [
       "17662"
      ]
     },
     "execution_count": 3,
     "metadata": {},
     "output_type": "execute_result"
    }
   ],
   "source": [
    "df.count()"
   ]
  },
  {
   "cell_type": "code",
   "execution_count": 4,
   "metadata": {},
   "outputs": [
    {
     "name": "stdout",
     "output_type": "stream",
     "text": [
      "+-------------------------------------------------------------------------------------------------------------------------------------------------------------------------------------------------------------------------------------------+-------+-----------------------------------+------------+--------------------+-----------+--------------------------+---------------+--------------+---------------------+-----------------------+-----------------------------+-------------------------------+---------------+---------------------------------+------------------------------------+------------------------------------+-----------------------------+----------------------+------------------------------------------+--------------------------------------------------------------+------------------------------------------+--------------------------------------------------------------+------------------------------------------+--------------------------------------------------------------+-------------+-----------------+-------------------+----------------------------------+-------------------+------------------------------+------------------------+--------------------------------------------+------------------------------------------+------------------------+-----------------------------+--------+--------------------------+----------------------+----+-----------+------------+-----+\n",
      "|features                                                                                                                                                                                                                                   |cik    |company_name                       |assigned_sic|accession_number_int|filing_date|CostOfGoodsAndServicesSold|CostOfGoodsSold|CostOfServices|EarningsPerShareBasic|EarningsPerShareDiluted|GainLossOnDispositionOfAssets|GeneralAndAdministrativeExpense|IncomeTaxesPaid|IncreaseDecreaseInAccountsPayable|IncreaseDecreaseInAccountsReceivable|IncreaseDecreaseInAccruedLiabilities|IncreaseDecreaseInInventories|LaborAndRelatedExpense|NetCashProvidedByUsedInFinancingActivities|NetCashProvidedByUsedInFinancingActivitiesContinuingOperations|NetCashProvidedByUsedInInvestingActivities|NetCashProvidedByUsedInInvestingActivitiesContinuingOperations|NetCashProvidedByUsedInOperatingActivities|NetCashProvidedByUsedInOperatingActivitiesContinuingOperations|NetIncomeLoss|OperatingExpenses|OperatingIncomeLoss|PaymentsForRepurchaseOfCommonStock|PaymentsOfDividends|PaymentsOfDividendsCommonStock|PaymentsOfFinancingCosts|PaymentsToAcquireBusinessesNetOfCashAcquired|PaymentsToAcquirePropertyPlantAndEquipment|RepaymentsOfLongTermDebt|ResearchAndDevelopmentExpense|Revenues|SellingAndMarketingExpense|ShareBasedCompensation|year|profit_year|profit      |label|\n",
      "+-------------------------------------------------------------------------------------------------------------------------------------------------------------------------------------------------------------------------------------------+-------+-----------------------------------+------------+--------------------+-----------+--------------------------+---------------+--------------+---------------------+-----------------------+-----------------------------+-------------------------------+---------------+---------------------------------+------------------------------------+------------------------------------+-----------------------------+----------------------+------------------------------------------+--------------------------------------------------------------+------------------------------------------+--------------------------------------------------------------+------------------------------------------+--------------------------------------------------------------+-------------+-----------------+-------------------+----------------------------------+-------------------+------------------------------+------------------------+--------------------------------------------+------------------------------------------+------------------------+-----------------------------+--------+--------------------------+----------------------+----+-----------+------------+-----+\n",
      "|(33,[3,4,9,13,15,17,19,20,21,22,24,26,27,32],[4.13,4.06,2.08947E8,-2.11397E8,-2.05337E8,1.59135E8,2.92536E8,1.403985E9,2.54699E8,6.255E7,7962000.0,1.45558E8,5.7973E7,2.74E7])                                                             |706688 |AARON'S INC                        |7359        |70668818000032      |2018-03-01 |0.0                       |0.0            |0.0           |4.13                 |4.06                   |0.0                          |0.0                            |0.0            |0.0                              |2.08947E8                           |0.0                                 |0.0                          |0.0                   |-2.11397E8                                |0.0                                                           |-2.05337E8                                |0.0                                                           |1.59135E8                                 |0.0                                                           |2.92536E8    |1.403985E9       |2.54699E8          |6.255E7                           |0.0                |7962000.0                     |0.0                     |1.45558E8                                   |5.7973E7                                  |0.0                     |0.0                          |0.0     |0.0                       |2.74E7                |2017|2018       |2.89608E8   |1    |\n",
      "|(33,[1,3,4,8,9,11,13,15,17,19,20,21,22,27,28,32],[1.1593E9,0.81,0.79,-1.01E7,-2.04E7,-1.16E7,-1.42E8,-2.58E7,1.717E8,9.16E7,3.563E8,1.736E8,1.94E7,2.96E7,1.211E8,1.57E7])                                                                 |712034 |ACCO BRANDS CORP                   |2780        |71203415000008      |2015-02-25 |0.0                       |1.1593E9       |0.0           |0.81                 |0.79                   |0.0                          |0.0                            |0.0            |-1.01E7                          |-2.04E7                             |0.0                                 |-1.16E7                      |0.0                   |-1.42E8                                   |0.0                                                           |-2.58E7                                   |0.0                                                           |1.717E8                                   |0.0                                                           |9.16E7       |3.563E8          |1.736E8            |1.94E7                            |0.0                |0.0                           |0.0                     |0.0                                         |2.96E7                                    |1.211E8                 |0.0                          |0.0     |0.0                       |1.57E7                |2014|2015       |1.635E8     |1    |\n",
      "|(33,[6,8,9,10,11,13,15,17,21,27,28,30,32],[7.7435E7,1886000.0,-1738000.0,1119000.0,142000.0,-8600000.0,-1.4203E7,3.6787E7,2.8999E7,3.172E7,1.1744E7,4.4558E8,1169000.0])                                                                   |1499268|AFFINITY GAMING                    |7011        |144530514001207     |2014-03-31 |0.0                       |0.0            |0.0           |0.0                  |0.0                    |0.0                          |7.7435E7                       |0.0            |1886000.0                        |-1738000.0                          |1119000.0                           |142000.0                     |0.0                   |-8600000.0                                |0.0                                                           |-1.4203E7                                 |0.0                                                           |3.6787E7                                  |0.0                                                           |0.0          |0.0              |2.8999E7           |0.0                               |0.0                |0.0                           |0.0                     |0.0                                         |3.172E7                                   |1.1744E7                |0.0                          |4.4558E8|0.0                       |1169000.0             |2013|2014       |2.1936E7    |1    |\n",
      "|(33,[6,8,10,14,16,18,19,20,21,25,27,29,32],[7592000.0,4645000.0,-195000.0,1.2047E7,-1535000.0,-1.1331E7,-2.7277E7,2.1354E7,-2.1354E7,43000.0,181000.0,1.3762E7,1302000.0])                                                                 |1424812|AMARANTUS BIOSCIENCE HOLDINGS, INC.|2834        |114420415021238     |2015-04-06 |0.0                       |0.0            |0.0           |0.0                  |0.0                    |0.0                          |7592000.0                      |0.0            |4645000.0                        |0.0                                 |-195000.0                           |0.0                          |0.0                   |0.0                                       |1.2047E7                                                      |0.0                                       |-1535000.0                                                    |0.0                                       |-1.1331E7                                                     |-2.7277E7    |2.1354E7         |-2.1354E7          |0.0                               |0.0                |0.0                           |43000.0                 |0.0                                         |181000.0                                  |0.0                     |1.3762E7                     |0.0     |0.0                       |1302000.0             |2014|2015       |-2.4821E7   |0    |\n",
      "|(33,[2,6,8,9,10,13,15,17,19,20,21,25,26,28,29,31],[3.689404E7,1.6528568E7,-316655.0,876273.0,-304962.0,1.9250776E7,-2.9212636E7,-1.3229162E7,-2.8078674E7,5.7177697E7,-2.6961817E7,188743.0,2.5717078E7,5343750.0,1.6448625E7,2.4200504E7])|1314223|AMBER ROAD, INC.                   |7372        |131422316000021     |2016-03-16 |0.0                       |0.0            |3.689404E7    |0.0                  |0.0                    |0.0                          |1.6528568E7                    |0.0            |-316655.0                        |876273.0                            |-304962.0                           |0.0                          |0.0                   |1.9250776E7                               |0.0                                                           |-2.9212636E7                              |0.0                                                           |-1.3229162E7                              |0.0                                                           |-2.8078674E7 |5.7177697E7      |-2.6961817E7       |0.0                               |0.0                |0.0                           |188743.0                |2.5717078E7                                 |0.0                                       |5343750.0               |1.6448625E7                  |0.0     |2.4200504E7               |0.0                   |2015|2016       |-1.7325809E7|0    |\n",
      "+-------------------------------------------------------------------------------------------------------------------------------------------------------------------------------------------------------------------------------------------+-------+-----------------------------------+------------+--------------------+-----------+--------------------------+---------------+--------------+---------------------+-----------------------+-----------------------------+-------------------------------+---------------+---------------------------------+------------------------------------+------------------------------------+-----------------------------+----------------------+------------------------------------------+--------------------------------------------------------------+------------------------------------------+--------------------------------------------------------------+------------------------------------------+--------------------------------------------------------------+-------------+-----------------+-------------------+----------------------------------+-------------------+------------------------------+------------------------+--------------------------------------------+------------------------------------------+------------------------+-----------------------------+--------+--------------------------+----------------------+----+-----------+------------+-----+\n",
      "only showing top 5 rows\n",
      "\n"
     ]
    }
   ],
   "source": [
    "df.show(5,False)"
   ]
  },
  {
   "cell_type": "code",
   "execution_count": 5,
   "metadata": {},
   "outputs": [],
   "source": [
    "train, test = df.randomSplit([0.85, 0.15], seed=1)"
   ]
  },
  {
   "cell_type": "code",
   "execution_count": 6,
   "metadata": {},
   "outputs": [],
   "source": [
    "from pyspark.ml.classification import LogisticRegression"
   ]
  },
  {
   "cell_type": "code",
   "execution_count": 7,
   "metadata": {},
   "outputs": [],
   "source": [
    "lr = LogisticRegression(featuresCol = 'features', labelCol = 'label', maxIter=10)"
   ]
  },
  {
   "cell_type": "code",
   "execution_count": 8,
   "metadata": {},
   "outputs": [],
   "source": [
    "lrModel = lr.fit(train)"
   ]
  },
  {
   "cell_type": "code",
   "execution_count": 9,
   "metadata": {},
   "outputs": [
    {
     "data": {
      "image/png": "[encoded data removed]",
      "text/plain": [
       "<Figure size 432x288 with 1 Axes>"
      ]
     },
     "metadata": {
      "needs_background": "light"
     },
     "output_type": "display_data"
    }
   ],
   "source": [
    "import matplotlib.pyplot as plt\n",
    "import numpy as np\n",
    "beta = np.sort(lrModel.coefficients)\n",
    "plt.plot(beta)\n",
    "plt.ylabel('Beta Coefficients')\n",
    "plt.show()"
   ]
  },
  {
   "cell_type": "code",
   "execution_count": 10,
   "metadata": {},
   "outputs": [
    {
     "data": {
      "image/png": "[encoded data removed]",
      "text/plain": [
       "<Figure size 432x288 with 1 Axes>"
      ]
     },
     "metadata": {
      "needs_background": "light"
     },
     "output_type": "display_data"
    },
    {
     "name": "stdout",
     "output_type": "stream",
     "text": [
      "Training set areaUnderROC: 0.8931628818749222\n"
     ]
    }
   ],
   "source": [
    "trainingSummary = lrModel.summary\n",
    "roc = trainingSummary.roc.toPandas()\n",
    "plt.plot(roc['FPR'],roc['TPR'])\n",
    "plt.ylabel('False Positive Rate')\n",
    "plt.xlabel('True Positive Rate')\n",
    "plt.title('ROC Curve')\n",
    "plt.show()\n",
    "print('Training set areaUnderROC: ' + str(trainingSummary.areaUnderROC))"
   ]
  },
  {
   "cell_type": "code",
   "execution_count": 11,
   "metadata": {},
   "outputs": [
    {
     "data": {
      "image/png": "[encoded data removed]",
      "text/plain": [
       "<Figure size 432x288 with 1 Axes>"
      ]
     },
     "metadata": {
      "needs_background": "light"
     },
     "output_type": "display_data"
    }
   ],
   "source": [
    "pr = trainingSummary.pr.toPandas()\n",
    "plt.plot(pr['recall'],pr['precision'])\n",
    "plt.ylabel('Precision')\n",
    "plt.xlabel('Recall')\n",
    "plt.show()"
   ]
  },
  {
   "cell_type": "code",
   "execution_count": 12,
   "metadata": {},
   "outputs": [
    {
     "name": "stdout",
     "output_type": "stream",
     "text": [
      "+--------------------+-------+--------------------+------------+--------------------+-----------+--------------------------+---------------+--------------+---------------------+-----------------------+-----------------------------+-------------------------------+---------------+---------------------------------+------------------------------------+------------------------------------+-----------------------------+----------------------+------------------------------------------+--------------------------------------------------------------+------------------------------------------+--------------------------------------------------------------+------------------------------------------+--------------------------------------------------------------+-------------+-----------------+-------------------+----------------------------------+-------------------+------------------------------+------------------------+--------------------------------------------+------------------------------------------+------------------------+-----------------------------+---------+--------------------------+----------------------+----+-----------+----------+-----+--------------------+--------------------+----------+\n",
      "|            features|    cik|        company_name|assigned_sic|accession_number_int|filing_date|CostOfGoodsAndServicesSold|CostOfGoodsSold|CostOfServices|EarningsPerShareBasic|EarningsPerShareDiluted|GainLossOnDispositionOfAssets|GeneralAndAdministrativeExpense|IncomeTaxesPaid|IncreaseDecreaseInAccountsPayable|IncreaseDecreaseInAccountsReceivable|IncreaseDecreaseInAccruedLiabilities|IncreaseDecreaseInInventories|LaborAndRelatedExpense|NetCashProvidedByUsedInFinancingActivities|NetCashProvidedByUsedInFinancingActivitiesContinuingOperations|NetCashProvidedByUsedInInvestingActivities|NetCashProvidedByUsedInInvestingActivitiesContinuingOperations|NetCashProvidedByUsedInOperatingActivities|NetCashProvidedByUsedInOperatingActivitiesContinuingOperations|NetIncomeLoss|OperatingExpenses|OperatingIncomeLoss|PaymentsForRepurchaseOfCommonStock|PaymentsOfDividends|PaymentsOfDividendsCommonStock|PaymentsOfFinancingCosts|PaymentsToAcquireBusinessesNetOfCashAcquired|PaymentsToAcquirePropertyPlantAndEquipment|RepaymentsOfLongTermDebt|ResearchAndDevelopmentExpense| Revenues|SellingAndMarketingExpense|ShareBasedCompensation|year|profit_year|    profit|label|       rawPrediction|         probability|prediction|\n",
      "+--------------------+-------+--------------------+------------+--------------------+-----------+--------------------------+---------------+--------------+---------------------+-----------------------+-----------------------------+-------------------------------+---------------+---------------------------------+------------------------------------+------------------------------------+-----------------------------+----------------------+------------------------------------------+--------------------------------------------------------------+------------------------------------------+--------------------------------------------------------------+------------------------------------------+--------------------------------------------------------------+-------------+-----------------+-------------------+----------------------------------+-------------------+------------------------------+------------------------+--------------------------------------------+------------------------------------------+------------------------+-----------------------------+---------+--------------------------+----------------------+----+-----------+----------+-----+--------------------+--------------------+----------+\n",
      "|(33,[0,1,3,4,6,7,...|1351285|   ROSETTA STONE INC|        7372|     135128514000005| 2014-03-03|                  4.5714E7|       3.2191E7|           0.0|                -0.75|                  -0.75|                          0.0|                       5.6432E7|      3290000.0|                        3702000.0|                           9477000.0|                                 0.0|                     108000.0|                   0.0|                                       0.0|                                                     -1.0487E7|                                       0.0|                                                      -4.693E7|                                       0.0|                                                     8068000.0|          0.0|        2.37373E8|          -1.8442E7|                          1.1435E7|                0.0|                           0.0|                     0.0|                                         0.0|                                 8941000.0|                     0.0|                     3.3995E7|      0.0|                 1.46104E8|             9241000.0|2013|       2014|  -7.885E7|    0|[0.37305282263452...|[0.59219644153097...|       0.0|\n",
      "|(33,[0,3,4,5,7,8,...| 838875|WILLAMETTE VALLEY...|        2080|     165495417002343| 2017-03-23|                 7204884.0|            0.0|           0.0|                 0.43|                   0.43|                      -2500.0|                            0.0|       801250.0|                          35140.0|                           -186948.0|                            390825.0|                   -1338194.0|                   0.0|                                 3936193.0|                                                           0.0|                                -5328419.0|                                                           0.0|                                 3087913.0|                                                           0.0|    2628975.0|              0.0|          4167401.0|                          526860.0|                0.0|                           0.0|                     0.0|                                         0.0|                                 4327804.0|                348923.0|                          0.0|      0.0|                       0.0|                 748.0|2016|       2017| 3636044.0|    1|[0.44835352673147...|[0.61024769894203...|       0.0|\n",
      "|(33,[0,3,4,7,8,9,...|1018003|    INGRAM MICRO INC|        5045|     119312512088874| 2012-02-29|              3.4420419E10|            0.0|           0.0|                 1.57|                   1.53|                          0.0|                            0.0|      1.10336E8|                        4.07477E8|                            4.2569E8|                           -2.0043E7|                     7.9137E7|                   0.0|                                -4.14042E8|                                                           0.0|                                 -1.2462E8|                                                           0.0|                                 2.95859E8|                                                           0.0|     2.4424E8|       1.449636E9|          4.58646E8|                         2.25905E8|                0.0|                           0.0|                     0.0|                                   2106000.0|                                 1.22188E8|                     0.0|                          0.0|      0.0|                       0.0|              3.0811E7|2011|       2012| 4.62352E8|    1|[-36.307138009439...|[1.70612288657459...|       1.0|\n",
      "|(33,[0,3,4,8,9,10...|  99780|TRINITY INDUSTRIE...|        3743|       9978016000164| 2016-02-19|                  4.6562E9|            0.0|           0.0|                 5.14|                   5.08|                          0.0|                            0.0|            0.0|                          -7.86E7|                            800000.0|                            -1.696E8|                     -1.285E8|                   0.0|                                  -5.303E8|                                                      -5.303E8|                                  -5.113E8|                                                      -5.113E8|                                   9.397E8|                                                       9.397E8|      7.965E8|              0.0|           1.4389E9|                            1.15E8|                0.0|                        6.49E7|                     0.0|                                      4.62E7|                                    1.96E8|                     0.0|                          0.0|      0.0|                       0.0|                6.11E7|2015|       2016|   7.422E8|    1|[-8.5565262725179...|[1.92249117470882...|       1.0|\n",
      "|(33,[0,3,4,8,9,11...| 313616|   DANAHER CORP /DE/|        3823|      31361614000023| 2014-02-21|                  9.1604E9|            0.0|           0.0|                 3.87|                    3.8|                          0.0|                            0.0|            0.0|                          1.826E8|                              4.87E7|                                 0.0|                      -6.29E7|                   0.0|                                 -1.6058E9|                                                           0.0|                                  -5.525E8|                                                      -5.525E8|                                  3.5853E9|                                                      3.5853E9|      2.695E9|              0.0|           3.2749E9|                               0.0|             5.21E7|                           0.0|                     0.0|                                     9.572E8|                                   5.515E8|                 9.678E8|                     1.2499E9|      0.0|                       0.0|               1.177E8|2013|       2014|  3.4313E9|    1|[-27.052308366399...|[1.78374083104605...|       1.0|\n",
      "|(33,[0,3,4,8,9,11...|  30625|      FLOWSERVE CORP|        3561|       3062516000121| 2016-02-18|                3.073712E9|            0.0|           0.0|                 2.01|                    2.0|                          0.0|                            0.0|            0.0|                       -1.13639E8|                           -5.0441E7|                                 0.0|                     2.6232E7|                   0.0|                                  6.1322E7|                                                           0.0|                                -5.25295E8|                                                           0.0|                                 4.17092E8|                                                           0.0|    2.67669E8|              0.0|          5.25568E8|                         3.03651E8|            9.365E7|                           0.0|               5108000.0|                                   3.53654E8|                                       0.0|                   4.5E7|                          0.0|      0.0|                       0.0|              3.4816E7|2015|       2016| 2.77455E8|    1|[-4.6614685230056...|[0.00936405647874...|       1.0|\n",
      "|(33,[0,3,4,8,9,14...|  18926|    CENTURYLINK, INC|        4813|       1892616000047| 2016-02-25|                   7.778E9|            0.0|           0.0|                 1.58|                   1.58|                          0.0|                            0.0|            0.0|                          -1.68E8|                              1.32E8|                                 0.0|                          0.0|                   0.0|                                       0.0|                                                      -2.301E9|                                       0.0|                                                      -2.853E9|                                       0.0|                                                       5.152E9|       8.78E8|        1.5295E10|            2.605E9|                            8.19E8|            1.198E9|                           0.0|                     0.0|                                         0.0|                                       0.0|                  9.66E8|                          0.0|  1.79E10|                       0.0|                 7.3E7|2015|       2016|   2.331E9|    1|[-50.341446174501...|[1.37084298944021...|       1.0|\n",
      "|(33,[0,3,4,11,13,...|  10456|BAXTER INTERNATIO...|        3841|     119312516479471| 2016-02-26|                   5.822E9|            0.0|           0.0|                 1.78|                   1.76|                          0.0|                            0.0|            0.0|                              0.0|                                 0.0|                                 0.0|                       1.18E8|                   0.0|                                   -3.57E8|                                                           0.0|                                  -1.807E9|                                                       -8.61E8|                                   1.647E9|                                                       1.129E9|       9.68E8|              0.0|             4.49E8|                               0.0|                0.0|                         9.1E8|                     0.0|                                       3.4E7|                                       0.0|                 3.776E9|                       6.03E8|      0.0|                       0.0|                1.26E8|2015|       2016|    7.24E8|    1|[-14.762986834262...|[3.87718133264969...|       1.0|\n",
      "|(33,[1,2,3,4,7,9,...| 792977|AMAG PHARMACEUTIC...|        2834|      79297717000007| 2017-02-21|                       0.0|       9.6314E7|      2.0575E7|                -0.07|                  -0.07|                          0.0|                            0.0|      5309000.0|                              0.0|                           9906000.0|                                 0.0|                    2355000.0|                   0.0|                                -1.27918E8|                                                           0.0|                                 -7.2704E7|                                                           0.0|                                 2.46222E8|                                                           0.0|          0.0|              0.0|            7.887E7|                             2.0E7|                0.0|                           0.0|                     0.0|                                         0.0|                                       0.0|                1.7502E7|                          0.0|      0.0|                       0.0|              2.2543E7|2016|       2017|-2.93261E8|    0|[0.20622830436605...|[0.55137512254460...|       0.0|\n",
      "|(33,[1,2,6,7,8,9,...|1291361|SYNERON MEDICAL LTD.|        3845|     117891313000860| 2013-03-21|                       0.0|       9.1045E7|      3.6137E7|                  0.0|                    0.0|                          0.0|                       3.4188E7|      1340000.0|                       -2134000.0|                           6697000.0|                                 0.0|                    7072000.0|                   0.0|                                -6332000.0|                                                           0.0|                                   2.276E7|                                                           0.0|                                  -1.108E7|                                                           0.0|   -1343000.0|        1.44208E8|         -7768000.0|                         7200000.0|                0.0|                           0.0|                     0.0|                                    1.5064E7|                                 1993000.0|                     0.0|                     2.9936E7|2.63622E8|                  7.7795E7|             4734000.0|2012|       2013|-6119000.0|    0|[0.31035725165306...|[0.57697245981207...|       0.0|\n",
      "+--------------------+-------+--------------------+------------+--------------------+-----------+--------------------------+---------------+--------------+---------------------+-----------------------+-----------------------------+-------------------------------+---------------+---------------------------------+------------------------------------+------------------------------------+-----------------------------+----------------------+------------------------------------------+--------------------------------------------------------------+------------------------------------------+--------------------------------------------------------------+------------------------------------------+--------------------------------------------------------------+-------------+-----------------+-------------------+----------------------------------+-------------------+------------------------------+------------------------+--------------------------------------------+------------------------------------------+------------------------+-----------------------------+---------+--------------------------+----------------------+----+-----------+----------+-----+--------------------+--------------------+----------+\n",
      "only showing top 10 rows\n",
      "\n"
     ]
    }
   ],
   "source": [
    "predictions = lrModel.transform(test)\n",
    "predictions.show(10)"
   ]
  },
  {
   "cell_type": "code",
   "execution_count": 13,
   "metadata": {},
   "outputs": [
    {
     "name": "stdout",
     "output_type": "stream",
     "text": [
      "Test Area Under ROC 0.901940172428398\n"
     ]
    }
   ],
   "source": [
    "from pyspark.ml.evaluation import BinaryClassificationEvaluator\n",
    "evaluator = BinaryClassificationEvaluator()\n",
    "print('Test Area Under ROC', evaluator.evaluate(predictions))"
   ]
  },
  {
   "cell_type": "code",
   "execution_count": 14,
   "metadata": {},
   "outputs": [
    {
     "name": "stdout",
     "output_type": "stream",
     "text": [
      "              precision    recall  f1-score   support\n",
      "\n",
      "           0       0.66      0.93      0.77      1174\n",
      "           1       0.92      0.60      0.73      1448\n",
      "\n",
      "    accuracy                           0.75      2622\n",
      "   macro avg       0.79      0.77      0.75      2622\n",
      "weighted avg       0.80      0.75      0.75      2622\n",
      "\n"
     ]
    },
    {
     "data": {
      "text/plain": [
       "array([[1094,   80],\n",
       "       [ 572,  876]])"
      ]
     },
     "execution_count": 14,
     "metadata": {},
     "output_type": "execute_result"
    }
   ],
   "source": [
    "y_true = predictions.select(['label']).collect()\n",
    "y_pred = predictions.select(['prediction']).collect()\n",
    "from sklearn.metrics import classification_report, confusion_matrix\n",
    "print(classification_report(y_true, y_pred))\n",
    "confusion_matrix(y_true, y_pred, labels=[0, 1])"
   ]
  },
  {
   "cell_type": "code",
   "execution_count": null,
   "metadata": {},
   "outputs": [],
   "source": []
  }
 ],
 "metadata": {
  "kernelspec": {
   "display_name": "Python 3",
   "language": "python",
   "name": "python3"
  },
  "language_info": {
   "codemirror_mode": {
    "name": "ipython",
    "version": 3
   },
   "file_extension": ".py",
   "mimetype": "text/x-python",
   "name": "python",
   "nbconvert_exporter": "python",
   "pygments_lexer": "ipython3",
   "version": "3.7.6"
  }
 },
 "nbformat": 4,
 "nbformat_minor": 4
}
